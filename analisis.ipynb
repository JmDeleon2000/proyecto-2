{
 "cells": [
  {
   "cell_type": "code",
   "execution_count": 42,
   "metadata": {},
   "outputs": [],
   "source": [
    "import pandas as pd\n",
    "from pandas_profiling import ProfileReport\n",
    "import numpy as np\n",
    "import matplotlib.pyplot as plt\n",
    "from PIL import Image\n",
    "import seaborn as sns"
   ]
  },
  {
   "cell_type": "markdown",
   "metadata": {},
   "source": [
    "# Investigacion acerca del tema: \n",
    "\n",
    "Mayo Clinic - STRIP AI Clasificación de la imagen del origen del coágulo sanguíneo del accidente cerebrovascular\n",
    "\n",
    "¿Qué es un accidente cerebrovascular isquémico?\n",
    "\n",
    "Un accidente cerebrovascular es una lesión cerebral causada por una interrupción del flujo sanguíneo. El tejido cerebral que no recibe oxígeno y nutrientes de la sangre puede morir en minutos. El daño cerebral puede causar una pérdida repentina de las funciones corporales. Los tipos de función afectados dependen de la parte del cerebro que sufre el daño. (Furie, Kasner, Adams, 2010)\n",
    "\n",
    "¿Por que se genera?\n",
    "El ACV isquémico agudo se genera por oclusión de un vaso arterial e implica daños permanentes por isquemia; no obstante, si la oclusión es transitoria y se autorresuelve, se presentarán manifestaciones momentáneas, lo cual haría referencia a un ataque isquémico transitorio, que se define como un episodio de déficit neurológico focal por isquemia cerebral, de menos de 60 minutos de duración, completa resolución posterior, y sin cambios en las neuroimágenes. (et al, 2019)\n",
    "\n",
    "¿Como se diagnostica el ACV?\n",
    "El diagnóstico del ACV isquémico agudo es clínico y los estudios imagenológicos se realizan con el fin de detectar hemorragia, evaluar el grado de lesión e identificar el territorio vascular\n",
    "afectado. En la mayoria de casos se utiliza la tomografía axial computarizada (TAC). \n",
    "\n",
    "En la TAC  se pueden observar otros elementos como cambios isquémicos tempranos dados por hipodensidades leves del parénquima con pérdida de la diferenciación de las sustancias gris y blanca. Los infartos antiguos que se observan como hipodensidades bien definidas del parénquima y la hiperdensidad de una arteria se asocia con oclusión trombótica de grandes vasos. (et al, 2019)\n",
    "\n",
    "¿Cuales son los sintomas?\n",
    "Los signos y síntomas se manifiestan según la localización y extensión de la lesión. Los principales territorios vasculares que pueden\n",
    "verse alterados son:\n",
    "1. Circulación anterior: arteria carótida interna, arteria cerebral media y anterior. \n",
    "2. Arteria cerebral anterior: presentará hemiparesia e hipoestesia contralateral de predominio crural, disartria, incontinencia urinaria, apatía, abulia, desinhibición y mutismo acinético en caso de daño bilateral. \n",
    "3. Arteria cerebral media en su porción más proximal (M1) presentará hemiplejia e hipoestesia contralateral, hemianopsia homónima, desviación forzada de la mirada, alteración del estado de conciencia y afasia si se afecta el hemisferio dominante. Las porciones M2-M3 se presentarán con hemiparesia e hipoestesia contralateral, disartria, afasia si se afecta el hemisferio dominante, y hemiamopsia homónima en compromiso de M2. Si el daño es en la porción M4, presentará los mismos signos y síntomas, pero de forma menos severa, y presentará más afectación de funciones corticales como el lenguaje, así como disgrafia, discalculia, agrafoestesia, apraxias o debutar con crisis.\n",
    "4. Circulación posterior: arteria cerebral posterior, arteria basilar y arteria vertebral.\n",
    "5. Arteria cerebral posterior: afectación del campo visual contralateral, agnosia visual, o ceguera cortical o crisis visuales.\n",
    "6. Territorio vertebrobasilar: pueden presentar compromiso cerebeloso o troncoencefálico de acuerdo con la arteria afectada. Existe daño de la punta de la basilar, que se presentará con compromiso del estado de conciencia, alteraciones pupilares u oculomotoras, cerebelosas, y compromiso motor de las cuatro extremidades, que en caso de no ser identificado y tratado, puede llevar al paciente a la muerte en pocas horas. (et al, 2019)\n"
   ]
  },
  {
   "cell_type": "markdown",
   "metadata": {},
   "source": [
    "# Situacion problematica:\n",
    "\n",
    "Coágulos sanguíneos en el ictus isquémico (manejo terapeutico y prevencion de segundo accidente cerebrovascular)\n",
    "\n",
    "Un accidente cerebrovascular es una lesión cerebral causada por una interrupción del flujo sanguíneo. El tejido cerebral que no recibe oxígeno y nutrientes de la sangre puede morir en minutos. El daño cerebral puede causar una pérdida repentina de las funciones corporales. Los tipos de función afectados dependen de la parte del cerebro que sufre el daño. (Furie, Kasner, Adams, 2010)\n",
    "\n",
    "Se busca ayudar a los proveedores de atencion medica identificar mejor los orígenes de los coágulos de sangre en los accidentes cerebrovasculares mortales, lo que facilitará que los médicos prescriban el mejor manejo terapéutico posterior al accidente cerebrovascular y reducirá la probabilidad de un segundo accidente cerebrovascular."
   ]
  },
  {
   "cell_type": "markdown",
   "metadata": {},
   "source": [
    "# Problema cientifico:\n",
    "Es necesario poder desarrollar una IA que nos permita clasificar ambas etiologias de coágulos sanguíneos en el ictus isquémico, siendo estas: \n",
    "1.  aterosclerosis cardíaca\n",
    "2.  arterial grande\n",
    "\n",
    "Para realizar esto se utilizaran imágenes de patología digital de diapositivas completas para construir un modelo de clasificacion. \n"
   ]
  },
  {
   "cell_type": "markdown",
   "metadata": {},
   "source": [
    "#   Objetivos:\n",
    "##  Objetivo General:\n",
    "Crear un modelo de IA que por medio de imagenes de patologias digitales, diferencie y clasifique entre e los dos principales subtipos de etiología del accidente cerebrovascular isquémico agudo (SIA): aterosclerosis cardíaca y arterial grande.\n",
    "##  Objetivos especificos:\n",
    "1. Utilizar las distintas herramientas de python para poder cargar, analizar y manipular imagenes de accidentes cerebrovasculares de formato .TIF\n",
    "2. Desarrollar un algoritmo que permita la optimizacion y compresion de los arhivos con formato .TIF para facilitar la carga y manejo de las imagenes."
   ]
  },
  {
   "cell_type": "markdown",
   "metadata": {},
   "source": [
    "Referencias:\n",
    "Furie KL, Kasner SE, Adams RJ, et al. Guidelines for the Prevention of Stroke in Patients With Stroke or Transient Ischemic Attack: A Guideline for Healthcare Professionals From the American Heart Association/American Stroke Association. Stroke. 2010 October 21.\n",
    "\n",
    "García-Alfonso C, Martínez Reyes A, García V, Ricaurte-Fajardo A, Torres I, Coral J. Actualización en diagnóstico y tratamiento del ataque cerebrovascular isquémico agudo. Univ. Med.\n",
    "2019;60(3). https://doi.org/10.11144/Javeriana.umed60-3.actu."
   ]
  },
  {
   "cell_type": "code",
   "execution_count": 43,
   "metadata": {},
   "outputs": [
    {
     "data": {
      "text/html": [
       "<div>\n",
       "<style scoped>\n",
       "    .dataframe tbody tr th:only-of-type {\n",
       "        vertical-align: middle;\n",
       "    }\n",
       "\n",
       "    .dataframe tbody tr th {\n",
       "        vertical-align: top;\n",
       "    }\n",
       "\n",
       "    .dataframe thead th {\n",
       "        text-align: right;\n",
       "    }\n",
       "</style>\n",
       "<table border=\"1\" class=\"dataframe\">\n",
       "  <thead>\n",
       "    <tr style=\"text-align: right;\">\n",
       "      <th></th>\n",
       "      <th>image_id</th>\n",
       "      <th>center_id</th>\n",
       "      <th>patient_id</th>\n",
       "      <th>image_num</th>\n",
       "      <th>label</th>\n",
       "    </tr>\n",
       "  </thead>\n",
       "  <tbody>\n",
       "    <tr>\n",
       "      <th>0</th>\n",
       "      <td>006388_0</td>\n",
       "      <td>11</td>\n",
       "      <td>006388</td>\n",
       "      <td>0</td>\n",
       "      <td>CE</td>\n",
       "    </tr>\n",
       "    <tr>\n",
       "      <th>1</th>\n",
       "      <td>008e5c_0</td>\n",
       "      <td>11</td>\n",
       "      <td>008e5c</td>\n",
       "      <td>0</td>\n",
       "      <td>CE</td>\n",
       "    </tr>\n",
       "    <tr>\n",
       "      <th>2</th>\n",
       "      <td>00c058_0</td>\n",
       "      <td>11</td>\n",
       "      <td>00c058</td>\n",
       "      <td>0</td>\n",
       "      <td>LAA</td>\n",
       "    </tr>\n",
       "    <tr>\n",
       "      <th>3</th>\n",
       "      <td>01adc5_0</td>\n",
       "      <td>11</td>\n",
       "      <td>01adc5</td>\n",
       "      <td>0</td>\n",
       "      <td>LAA</td>\n",
       "    </tr>\n",
       "    <tr>\n",
       "      <th>4</th>\n",
       "      <td>026c97_0</td>\n",
       "      <td>4</td>\n",
       "      <td>026c97</td>\n",
       "      <td>0</td>\n",
       "      <td>CE</td>\n",
       "    </tr>\n",
       "  </tbody>\n",
       "</table>\n",
       "</div>"
      ],
      "text/plain": [
       "   image_id  center_id patient_id  image_num label\n",
       "0  006388_0         11     006388          0    CE\n",
       "1  008e5c_0         11     008e5c          0    CE\n",
       "2  00c058_0         11     00c058          0   LAA\n",
       "3  01adc5_0         11     01adc5          0   LAA\n",
       "4  026c97_0          4     026c97          0    CE"
      ]
     },
     "execution_count": 43,
     "metadata": {},
     "output_type": "execute_result"
    }
   ],
   "source": [
    "df = pd.read_csv(\"data/train.csv\")\n",
    "df.head()"
   ]
  },
  {
   "cell_type": "markdown",
   "metadata": {},
   "source": [
    "## Descripcion de los datos\n",
    "\n",
    "1. image_id es object, debido a que tiene un string mezclado de valores numericos y no numericos; Un identificador único para esta instancia con el formato {patient_id}_{image_num}. Corresponde a la imagen {image_id}.tif.\n",
    "\n",
    "2. center_id es int64, es decir integer; Identifica el centro médico donde se obtuvo la diapositiva.\n",
    "\n",
    "3. patient_id es de tipo object, es un string con caracteres numericos y no numericos; Identifica al paciente del que se obtuvo la diapositiva.\n",
    "\n",
    "4. image_num es int64, integer; Enumera imágenes de coágulos obtenidos del mismo paciente.\n",
    "\n",
    "5. label es object, en este caso string por que es la etiqueta de clasificacion; La etiología del coágulo, ya sea CE o LAA. Este campo es el objetivo de clasificación.\n",
    "\n",
    "### Operaciones de limpieza\n",
    "\n",
    "El dataframe (train.csv) realmente cuenta con un formato ordenado, conforme al primer contacto con los datos como grupo se determino que muchas de las imagenes cuentan con resoluciones distintas, es por ello que es necesario realizar una normalizacion para los archivos .TIF, ademas el conjunto de imagenes cuenta con un peso de alrededor de 234 GB. Muchas de las imagenes son con un peso entre 600 MB  a 1.5 GB, por ello se realizara una seleccion de imagenes que cuenten con un peso reducido de manera que se facilite la manipulacion y construccion de la IA.\n",
    "\n",
    "Cuando las imagenes esten seleccionadas y normalizadas, es necesario modificar el dataframe de manera que los archivos .TIF que no sean necesarios sea eliminados o se realice una construccion de un dataframe solo con la informacion de las imagenes seleccionadas para el proyecto.\n"
   ]
  },
  {
   "cell_type": "code",
   "execution_count": 44,
   "metadata": {},
   "outputs": [],
   "source": [
    "total_count = df.count()[0]"
   ]
  },
  {
   "cell_type": "code",
   "execution_count": 45,
   "metadata": {},
   "outputs": [],
   "source": [
    "CE_count = df.where(df['label'] == 'CE').count()[0]"
   ]
  },
  {
   "cell_type": "code",
   "execution_count": 46,
   "metadata": {},
   "outputs": [],
   "source": [
    "LAA_count = df.where(df['label'] == 'LAA').count()[0]"
   ]
  },
  {
   "cell_type": "code",
   "execution_count": 47,
   "metadata": {},
   "outputs": [
    {
     "name": "stdout",
     "output_type": "stream",
     "text": [
      "Proporción de CE: 72.55%\n"
     ]
    }
   ],
   "source": [
    "print(f'Proporción de CE: {CE_count/total_count*100:.2f}%')"
   ]
  },
  {
   "cell_type": "code",
   "execution_count": 48,
   "metadata": {},
   "outputs": [
    {
     "name": "stdout",
     "output_type": "stream",
     "text": [
      "Proporción de LAA: 27.45%\n"
     ]
    }
   ],
   "source": [
    "print(f'Proporción de LAA: {LAA_count/total_count*100:.2f}%')"
   ]
  },
  {
   "cell_type": "code",
   "execution_count": 49,
   "metadata": {},
   "outputs": [
    {
     "data": {
      "text/plain": [
       "2.642512077294686"
      ]
     },
     "execution_count": 49,
     "metadata": {},
     "output_type": "execute_result"
    }
   ],
   "source": [
    "CE_count/LAA_count"
   ]
  },
  {
   "cell_type": "markdown",
   "metadata": {},
   "source": [
    "Las clases están muy desbalanceadas"
   ]
  },
  {
   "cell_type": "markdown",
   "metadata": {},
   "source": [
    "No es factible trabajar con algunas imágenes del data set porque estas ocupan más de un GB. Por lo que se trabajará con las imágenes con menor  tamaño. A continuación se presenta un analisis de algunas imágenes."
   ]
  },
  {
   "cell_type": "code",
   "execution_count": 50,
   "metadata": {},
   "outputs": [],
   "source": [
    "Image.MAX_IMAGE_PIXELS = None\n",
    "im = Image.open(\"data/008e5c_0.tif\") #CE"
   ]
  },
  {
   "cell_type": "code",
   "execution_count": 51,
   "metadata": {},
   "outputs": [
    {
     "data": {
      "text/plain": [
       "(5946, 29694)"
      ]
     },
     "execution_count": 51,
     "metadata": {},
     "output_type": "execute_result"
    }
   ],
   "source": [
    "im.size"
   ]
  },
  {
   "cell_type": "code",
   "execution_count": 52,
   "metadata": {},
   "outputs": [],
   "source": [
    "im = np.array(im)"
   ]
  },
  {
   "cell_type": "code",
   "execution_count": 53,
   "metadata": {},
   "outputs": [
    {
     "data": {
      "text/plain": [
       "(29694, 5946, 3)"
      ]
     },
     "execution_count": 53,
     "metadata": {},
     "output_type": "execute_result"
    }
   ],
   "source": [
    "im.shape"
   ]
  },
  {
   "cell_type": "code",
   "execution_count": 54,
   "metadata": {},
   "outputs": [
    {
     "data": {
      "text/plain": [
       "(29694, 5946)"
      ]
     },
     "execution_count": 54,
     "metadata": {},
     "output_type": "execute_result"
    }
   ],
   "source": [
    "im = np.add.reduce(im, axis=2)//3\n",
    "im.shape"
   ]
  },
  {
   "cell_type": "code",
   "execution_count": 55,
   "metadata": {},
   "outputs": [
    {
     "data": {
      "text/plain": [
       "232.8209309743553"
      ]
     },
     "execution_count": 55,
     "metadata": {},
     "output_type": "execute_result"
    }
   ],
   "source": [
    "im.mean()"
   ]
  },
  {
   "cell_type": "code",
   "execution_count": 56,
   "metadata": {},
   "outputs": [
    {
     "data": {
      "text/plain": [
       "155.78840696142225"
      ]
     },
     "execution_count": 56,
     "metadata": {},
     "output_type": "execute_result"
    }
   ],
   "source": [
    "im.mean(where=(im < 255))"
   ]
  },
  {
   "cell_type": "code",
   "execution_count": 57,
   "metadata": {},
   "outputs": [
    {
     "data": {
      "text/plain": [
       "255.0"
      ]
     },
     "execution_count": 57,
     "metadata": {},
     "output_type": "execute_result"
    }
   ],
   "source": [
    "np.median(im)"
   ]
  },
  {
   "cell_type": "code",
   "execution_count": 58,
   "metadata": {},
   "outputs": [
    {
     "data": {
      "text/plain": [
       "(8267, 10533, 3)"
      ]
     },
     "execution_count": 58,
     "metadata": {},
     "output_type": "execute_result"
    }
   ],
   "source": [
    "im2 = np.array(Image.open(\"data/026c97_0.tif\"))\n",
    "im2.shape"
   ]
  },
  {
   "cell_type": "code",
   "execution_count": 59,
   "metadata": {},
   "outputs": [
    {
     "data": {
      "text/plain": [
       "(8267, 10533)"
      ]
     },
     "execution_count": 59,
     "metadata": {},
     "output_type": "execute_result"
    }
   ],
   "source": [
    "im2 = np.add.reduce(im2, axis=2)//3\n",
    "im2.shape"
   ]
  },
  {
   "cell_type": "code",
   "execution_count": 60,
   "metadata": {},
   "outputs": [
    {
     "data": {
      "text/plain": [
       "224.17265025157073"
      ]
     },
     "execution_count": 60,
     "metadata": {},
     "output_type": "execute_result"
    }
   ],
   "source": [
    "im2.mean()"
   ]
  },
  {
   "cell_type": "code",
   "execution_count": 61,
   "metadata": {},
   "outputs": [
    {
     "data": {
      "text/plain": [
       "173.64449469839235"
      ]
     },
     "execution_count": 61,
     "metadata": {},
     "output_type": "execute_result"
    }
   ],
   "source": [
    "im2.mean(where=(im2 < 255))"
   ]
  },
  {
   "cell_type": "code",
   "execution_count": 62,
   "metadata": {},
   "outputs": [
    {
     "data": {
      "text/plain": [
       "255.0"
      ]
     },
     "execution_count": 62,
     "metadata": {},
     "output_type": "execute_result"
    }
   ],
   "source": [
    "np.median(im2)"
   ]
  },
  {
   "cell_type": "markdown",
   "metadata": {},
   "source": [
    "La gran mayoría de los pixeles de las imágenes son blancos. "
   ]
  },
  {
   "cell_type": "code",
   "execution_count": 63,
   "metadata": {},
   "outputs": [],
   "source": [
    "im3 = Image.open(\"data/00c058_0.tif\") #LAA"
   ]
  },
  {
   "cell_type": "code",
   "execution_count": 64,
   "metadata": {},
   "outputs": [],
   "source": [
    "im3 = np.array(im3)"
   ]
  },
  {
   "cell_type": "code",
   "execution_count": 65,
   "metadata": {},
   "outputs": [
    {
     "data": {
      "text/plain": [
       "(61801, 15255)"
      ]
     },
     "execution_count": 65,
     "metadata": {},
     "output_type": "execute_result"
    }
   ],
   "source": [
    "im3 = np.add.reduce(im3, axis=2)//3\n",
    "im3.shape"
   ]
  },
  {
   "cell_type": "code",
   "execution_count": 66,
   "metadata": {},
   "outputs": [
    {
     "data": {
      "text/plain": [
       "239.3327863519141"
      ]
     },
     "execution_count": 66,
     "metadata": {},
     "output_type": "execute_result"
    }
   ],
   "source": [
    "im3.mean()"
   ]
  },
  {
   "cell_type": "code",
   "execution_count": 67,
   "metadata": {},
   "outputs": [
    {
     "data": {
      "text/plain": [
       "239.33134010242537"
      ]
     },
     "execution_count": 67,
     "metadata": {},
     "output_type": "execute_result"
    }
   ],
   "source": [
    "im3.mean(where=(im3 < 255))"
   ]
  },
  {
   "cell_type": "code",
   "execution_count": 68,
   "metadata": {},
   "outputs": [
    {
     "data": {
      "text/plain": [
       "250.0"
      ]
     },
     "execution_count": 68,
     "metadata": {},
     "output_type": "execute_result"
    }
   ],
   "source": [
    "np.median(im3)"
   ]
  },
  {
   "cell_type": "markdown",
   "metadata": {},
   "source": [
    "## Analisis exploratorio de los datos"
   ]
  },
  {
   "cell_type": "code",
   "execution_count": 69,
   "metadata": {},
   "outputs": [
    {
     "data": {
      "text/html": [
       "<div>\n",
       "<style scoped>\n",
       "    .dataframe tbody tr th:only-of-type {\n",
       "        vertical-align: middle;\n",
       "    }\n",
       "\n",
       "    .dataframe tbody tr th {\n",
       "        vertical-align: top;\n",
       "    }\n",
       "\n",
       "    .dataframe thead th {\n",
       "        text-align: right;\n",
       "    }\n",
       "</style>\n",
       "<table border=\"1\" class=\"dataframe\">\n",
       "  <thead>\n",
       "    <tr style=\"text-align: right;\">\n",
       "      <th></th>\n",
       "      <th>image_id</th>\n",
       "      <th>center_id</th>\n",
       "      <th>patient_id</th>\n",
       "      <th>image_num</th>\n",
       "      <th>label</th>\n",
       "    </tr>\n",
       "  </thead>\n",
       "  <tbody>\n",
       "    <tr>\n",
       "      <th>0</th>\n",
       "      <td>006388_0</td>\n",
       "      <td>11</td>\n",
       "      <td>006388</td>\n",
       "      <td>0</td>\n",
       "      <td>CE</td>\n",
       "    </tr>\n",
       "    <tr>\n",
       "      <th>1</th>\n",
       "      <td>008e5c_0</td>\n",
       "      <td>11</td>\n",
       "      <td>008e5c</td>\n",
       "      <td>0</td>\n",
       "      <td>CE</td>\n",
       "    </tr>\n",
       "    <tr>\n",
       "      <th>2</th>\n",
       "      <td>00c058_0</td>\n",
       "      <td>11</td>\n",
       "      <td>00c058</td>\n",
       "      <td>0</td>\n",
       "      <td>LAA</td>\n",
       "    </tr>\n",
       "    <tr>\n",
       "      <th>3</th>\n",
       "      <td>01adc5_0</td>\n",
       "      <td>11</td>\n",
       "      <td>01adc5</td>\n",
       "      <td>0</td>\n",
       "      <td>LAA</td>\n",
       "    </tr>\n",
       "    <tr>\n",
       "      <th>4</th>\n",
       "      <td>026c97_0</td>\n",
       "      <td>4</td>\n",
       "      <td>026c97</td>\n",
       "      <td>0</td>\n",
       "      <td>CE</td>\n",
       "    </tr>\n",
       "  </tbody>\n",
       "</table>\n",
       "</div>"
      ],
      "text/plain": [
       "   image_id  center_id patient_id  image_num label\n",
       "0  006388_0         11     006388          0    CE\n",
       "1  008e5c_0         11     008e5c          0    CE\n",
       "2  00c058_0         11     00c058          0   LAA\n",
       "3  01adc5_0         11     01adc5          0   LAA\n",
       "4  026c97_0          4     026c97          0    CE"
      ]
     },
     "execution_count": 69,
     "metadata": {},
     "output_type": "execute_result"
    }
   ],
   "source": [
    "df.head()\n"
   ]
  },
  {
   "cell_type": "code",
   "execution_count": 70,
   "metadata": {},
   "outputs": [
    {
     "data": {
      "text/plain": [
       "image_id      object\n",
       "center_id      int64\n",
       "patient_id    object\n",
       "image_num      int64\n",
       "label         object\n",
       "dtype: object"
      ]
     },
     "execution_count": 70,
     "metadata": {},
     "output_type": "execute_result"
    }
   ],
   "source": [
    "df.dtypes"
   ]
  },
  {
   "cell_type": "markdown",
   "metadata": {},
   "source": [
    "Podemos ver que para el dataframe correspondiente del cvs train (train.csv) contamos con 5 columnas:\n",
    "image_id es object, debido a que tiene un string mezclado de valores numericos y no numericos; Un identificador único para esta instancia con el formato {patient_id}_{image_num}. Corresponde a la imagen {image_id}.tif.\n",
    "\n",
    "center_id es int64, es decir integer; Identifica el centro médico donde se obtuvo la diapositiva.\n",
    "\n",
    "patient_id es de tipo object, es un string con caracteres numericos y no numericos; Identifica al paciente del que se obtuvo la diapositiva.\n",
    "\n",
    "image_num es int64, integer; Enumera imágenes de coágulos obtenidos del mismo paciente.\n",
    "\n",
    "label es object, en este caso string por que es la etiqueta de clasificacion; La etiología del coágulo, ya sea CE o LAA. Este campo es el objetivo de clasificación.\n"
   ]
  },
  {
   "cell_type": "code",
   "execution_count": 71,
   "metadata": {},
   "outputs": [
    {
     "data": {
      "text/html": [
       "<div>\n",
       "<style scoped>\n",
       "    .dataframe tbody tr th:only-of-type {\n",
       "        vertical-align: middle;\n",
       "    }\n",
       "\n",
       "    .dataframe tbody tr th {\n",
       "        vertical-align: top;\n",
       "    }\n",
       "\n",
       "    .dataframe thead th {\n",
       "        text-align: right;\n",
       "    }\n",
       "</style>\n",
       "<table border=\"1\" class=\"dataframe\">\n",
       "  <thead>\n",
       "    <tr style=\"text-align: right;\">\n",
       "      <th></th>\n",
       "      <th>center_id</th>\n",
       "      <th>image_num</th>\n",
       "    </tr>\n",
       "  </thead>\n",
       "  <tbody>\n",
       "    <tr>\n",
       "      <th>count</th>\n",
       "      <td>754.000000</td>\n",
       "      <td>754.000000</td>\n",
       "    </tr>\n",
       "    <tr>\n",
       "      <th>mean</th>\n",
       "      <td>7.115385</td>\n",
       "      <td>0.226790</td>\n",
       "    </tr>\n",
       "    <tr>\n",
       "      <th>std</th>\n",
       "      <td>3.504306</td>\n",
       "      <td>0.599046</td>\n",
       "    </tr>\n",
       "    <tr>\n",
       "      <th>min</th>\n",
       "      <td>1.000000</td>\n",
       "      <td>0.000000</td>\n",
       "    </tr>\n",
       "    <tr>\n",
       "      <th>25%</th>\n",
       "      <td>4.000000</td>\n",
       "      <td>0.000000</td>\n",
       "    </tr>\n",
       "    <tr>\n",
       "      <th>50%</th>\n",
       "      <td>7.000000</td>\n",
       "      <td>0.000000</td>\n",
       "    </tr>\n",
       "    <tr>\n",
       "      <th>75%</th>\n",
       "      <td>11.000000</td>\n",
       "      <td>0.000000</td>\n",
       "    </tr>\n",
       "    <tr>\n",
       "      <th>max</th>\n",
       "      <td>11.000000</td>\n",
       "      <td>4.000000</td>\n",
       "    </tr>\n",
       "  </tbody>\n",
       "</table>\n",
       "</div>"
      ],
      "text/plain": [
       "        center_id   image_num\n",
       "count  754.000000  754.000000\n",
       "mean     7.115385    0.226790\n",
       "std      3.504306    0.599046\n",
       "min      1.000000    0.000000\n",
       "25%      4.000000    0.000000\n",
       "50%      7.000000    0.000000\n",
       "75%     11.000000    0.000000\n",
       "max     11.000000    4.000000"
      ]
     },
     "execution_count": 71,
     "metadata": {},
     "output_type": "execute_result"
    }
   ],
   "source": [
    "df.describe()"
   ]
  },
  {
   "cell_type": "code",
   "execution_count": 72,
   "metadata": {},
   "outputs": [
    {
     "name": "stdout",
     "output_type": "stream",
     "text": [
      "<class 'pandas.core.frame.DataFrame'>\n",
      "RangeIndex: 754 entries, 0 to 753\n",
      "Data columns (total 5 columns):\n",
      " #   Column      Non-Null Count  Dtype \n",
      "---  ------      --------------  ----- \n",
      " 0   image_id    754 non-null    object\n",
      " 1   center_id   754 non-null    int64 \n",
      " 2   patient_id  754 non-null    object\n",
      " 3   image_num   754 non-null    int64 \n",
      " 4   label       754 non-null    object\n",
      "dtypes: int64(2), object(3)\n",
      "memory usage: 29.6+ KB\n"
     ]
    }
   ],
   "source": [
    "df.info()"
   ]
  },
  {
   "cell_type": "code",
   "execution_count": 79,
   "metadata": {},
   "outputs": [
    {
     "data": {
      "text/plain": [
       "CE     547\n",
       "LAA    207\n",
       "Name: label, dtype: int64"
      ]
     },
     "execution_count": 79,
     "metadata": {},
     "output_type": "execute_result"
    }
   ],
   "source": [
    "# Tablas de frecuencia para las distribuciones label\n",
    "\t\n",
    "df.label.value_counts()\n"
   ]
  },
  {
   "cell_type": "code",
   "execution_count": 87,
   "metadata": {},
   "outputs": [
    {
     "name": "stdout",
     "output_type": "stream",
     "text": [
      "Proporción de CE: 72.55%\n",
      "Proporción de LAA: 27.45%\n"
     ]
    }
   ],
   "source": [
    "#Proporciones para ambas etiquetas\n",
    "print(f'Proporción de CE: {CE_count/total_count*100:.2f}%')\n",
    "print(f'Proporción de LAA: {LAA_count/total_count*100:.2f}%')"
   ]
  },
  {
   "cell_type": "code",
   "execution_count": 73,
   "metadata": {},
   "outputs": [
    {
     "data": {
      "image/png": "[encoded data removed]",
      "text/plain": [
       "<Figure size 1500x700 with 1 Axes>"
      ]
     },
     "metadata": {},
     "output_type": "display_data"
    }
   ],
   "source": [
    "# print(df['label'].value_counts())\n",
    "label = df['label'].value_counts()\n",
    "label\n",
    "\n",
    "# sns.barplot(data=label)\n",
    "label.plot(kind='bar', x = 'label', y = 'cantidad de casos', figsize=(15, 7), color=sns.color_palette(\"husl\", 8))\n",
    "plt.show()"
   ]
  },
  {
   "cell_type": "markdown",
   "metadata": {},
   "source": [
    "Realizando un recorrido a traves de la variable label, se puede observar que la variable label es categorica, y que la variable label tiene 2 categorias CE o LAA. \n",
    "En el dataframe podemos observar que existen para CE una cantidad de valores: 547 y para LAA una cantidad de valores: 207. \n",
    "Esto nos indica que mas de la mitad de los valores estan categorizados como CE. "
   ]
  },
  {
   "cell_type": "code",
   "execution_count": 77,
   "metadata": {},
   "outputs": [
    {
     "data": {
      "text/plain": [
       "11    257\n",
       "4     114\n",
       "7      99\n",
       "1      54\n",
       "3      49\n",
       "10     44\n",
       "6      38\n",
       "5      38\n",
       "2      29\n",
       "9      16\n",
       "8      16\n",
       "Name: center_id, dtype: int64"
      ]
     },
     "execution_count": 77,
     "metadata": {},
     "output_type": "execute_result"
    }
   ],
   "source": [
    "#tablas de frecuencia para center id lo cual nos indica en que centro medico fue sacada la imagen\n",
    "df.center_id.value_counts()"
   ]
  },
  {
   "cell_type": "code",
   "execution_count": 86,
   "metadata": {},
   "outputs": [
    {
     "data": {
      "image/png": "[encoded data removed]",
      "text/plain": [
       "<Figure size 1500x700 with 1 Axes>"
      ]
     },
     "metadata": {},
     "output_type": "display_data"
    }
   ],
   "source": [
    "# print(df['label'].value_counts())\n",
    "center_id = df['center_id'].value_counts()\n",
    "center_id\n",
    "\n",
    "# sns.barplot(data=label)\n",
    "center_id.plot(kind='bar', x = 'id de centro medico', y = 'cantidad de imagenes', figsize=(15, 7), color=sns.color_palette(\"husl\", 8))\n",
    "plt.show()"
   ]
  },
  {
   "cell_type": "code",
   "execution_count": 83,
   "metadata": {},
   "outputs": [
    {
     "data": {
      "text/plain": [
       "09644e    5\n",
       "56d177    5\n",
       "3d10be    5\n",
       "91b9d3    5\n",
       "f40c69    4\n",
       "         ..\n",
       "507ac9    1\n",
       "8be762    1\n",
       "c97365    1\n",
       "2ecb46    1\n",
       "579988    1\n",
       "Name: patient_id, Length: 632, dtype: int64"
      ]
     },
     "execution_count": 83,
     "metadata": {},
     "output_type": "execute_result"
    }
   ],
   "source": [
    "#tablas de frecuencia para los pacientes, cuantas imagenes hay para cada paciente\n",
    "df.patient_id.value_counts()\n",
    "QtyPaciente = df['patient_id'].value_counts()"
   ]
  }
 ],
 "metadata": {
  "kernelspec": {
   "display_name": "Python 3.7.0 64-bit",
   "language": "python",
   "name": "python3"
  },
  "language_info": {
   "codemirror_mode": {
    "name": "ipython",
    "version": 3
   },
   "file_extension": ".py",
   "mimetype": "text/x-python",
   "name": "python",
   "nbconvert_exporter": "python",
   "pygments_lexer": "ipython3",
   "version": "3.7.0"
  },
  "orig_nbformat": 4,
  "vscode": {
   "interpreter": {
    "hash": "5109d816b82be14675a6b11f8e0f0d2e80f029176ed3710d54e125caa8520dfd"
   }
  }
 },
 "nbformat": 4,
 "nbformat_minor": 2
}
