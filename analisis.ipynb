{
 "cells": [
  {
   "cell_type": "code",
<<<<<<< Updated upstream
   "execution_count": 2,
=======
   "execution_count": null,
>>>>>>> Stashed changes
   "metadata": {},
   "outputs": [],
   "source": [
    "import pandas as pd\n",
    "from pandas_profiling import ProfileReport\n",
    "import numpy as np\n",
    "import matplotlib.pyplot as plt\n",
    "from PIL import Image\n",
    "\n",
    "import seaborn as sns\n"
   ]
  },
  {
   "cell_type": "code",
<<<<<<< Updated upstream
   "execution_count": 3,
   "metadata": {},
   "outputs": [
    {
     "data": {
      "text/html": [
       "<div>\n",
       "<style scoped>\n",
       "    .dataframe tbody tr th:only-of-type {\n",
       "        vertical-align: middle;\n",
       "    }\n",
       "\n",
       "    .dataframe tbody tr th {\n",
       "        vertical-align: top;\n",
       "    }\n",
       "\n",
       "    .dataframe thead th {\n",
       "        text-align: right;\n",
       "    }\n",
       "</style>\n",
       "<table border=\"1\" class=\"dataframe\">\n",
       "  <thead>\n",
       "    <tr style=\"text-align: right;\">\n",
       "      <th></th>\n",
       "      <th>image_id</th>\n",
       "      <th>center_id</th>\n",
       "      <th>patient_id</th>\n",
       "      <th>image_num</th>\n",
       "      <th>label</th>\n",
       "    </tr>\n",
       "  </thead>\n",
       "  <tbody>\n",
       "    <tr>\n",
       "      <th>0</th>\n",
       "      <td>006388_0</td>\n",
       "      <td>11</td>\n",
       "      <td>006388</td>\n",
       "      <td>0</td>\n",
       "      <td>CE</td>\n",
       "    </tr>\n",
       "    <tr>\n",
       "      <th>1</th>\n",
       "      <td>008e5c_0</td>\n",
       "      <td>11</td>\n",
       "      <td>008e5c</td>\n",
       "      <td>0</td>\n",
       "      <td>CE</td>\n",
       "    </tr>\n",
       "    <tr>\n",
       "      <th>2</th>\n",
       "      <td>00c058_0</td>\n",
       "      <td>11</td>\n",
       "      <td>00c058</td>\n",
       "      <td>0</td>\n",
       "      <td>LAA</td>\n",
       "    </tr>\n",
       "    <tr>\n",
       "      <th>3</th>\n",
       "      <td>01adc5_0</td>\n",
       "      <td>11</td>\n",
       "      <td>01adc5</td>\n",
       "      <td>0</td>\n",
       "      <td>LAA</td>\n",
       "    </tr>\n",
       "    <tr>\n",
       "      <th>4</th>\n",
       "      <td>026c97_0</td>\n",
       "      <td>4</td>\n",
       "      <td>026c97</td>\n",
       "      <td>0</td>\n",
       "      <td>CE</td>\n",
       "    </tr>\n",
       "  </tbody>\n",
       "</table>\n",
       "</div>"
      ],
      "text/plain": [
       "   image_id  center_id patient_id  image_num label\n",
       "0  006388_0         11     006388          0    CE\n",
       "1  008e5c_0         11     008e5c          0    CE\n",
       "2  00c058_0         11     00c058          0   LAA\n",
       "3  01adc5_0         11     01adc5          0   LAA\n",
       "4  026c97_0          4     026c97          0    CE"
      ]
     },
     "execution_count": 3,
     "metadata": {},
     "output_type": "execute_result"
    }
   ],
=======
   "execution_count": null,
   "metadata": {},
   "outputs": [],
>>>>>>> Stashed changes
   "source": [
    "df = pd.read_csv(\"data/train.csv\")\n",
    "df.head()"
   ]
  },
  {
   "cell_type": "code",
<<<<<<< Updated upstream
   "execution_count": 50,
   "metadata": {},
   "outputs": [],
   "source": [
    "total_count = df.count()[0]"
   ]
  },
  {
   "cell_type": "code",
   "execution_count": 51,
   "metadata": {},
   "outputs": [],
   "source": [
    "CE_count = df.where(df['label'] == 'CE').count()[0]"
   ]
  },
  {
   "cell_type": "code",
   "execution_count": 52,
   "metadata": {},
   "outputs": [],
   "source": [
    "LAA_count = df.where(df['label'] == 'LAA').count()[0]"
   ]
  },
  {
   "cell_type": "code",
   "execution_count": 57,
   "metadata": {},
   "outputs": [
    {
     "name": "stdout",
     "output_type": "stream",
     "text": [
      "Proporción de CE: 72.55%\n"
     ]
    }
   ],
   "source": [
    "print(f'Proporción de CE: {CE_count/total_count*100:.2f}%')"
   ]
  },
  {
   "cell_type": "code",
   "execution_count": 56,
   "metadata": {},
   "outputs": [
    {
     "name": "stdout",
     "output_type": "stream",
     "text": [
      "Proporción de LAA: 27.45%\n"
     ]
    }
   ],
   "source": [
    "print(f'Proporción de LAA: {LAA_count/total_count*100:.2f}%')"
   ]
  },
  {
   "cell_type": "code",
   "execution_count": 58,
   "metadata": {},
   "outputs": [
    {
     "data": {
      "text/plain": [
       "2.642512077294686"
      ]
     },
     "execution_count": 58,
     "metadata": {},
     "output_type": "execute_result"
    }
   ],
=======
   "execution_count": null,
   "metadata": {},
   "outputs": [],
>>>>>>> Stashed changes
   "source": [
    "CE_count/LAA_count"
   ]
  },
  {
   "cell_type": "markdown",
   "metadata": {},
   "source": [
    "Las clases están muy desbalanceadas"
   ]
  },
  {
   "cell_type": "markdown",
   "metadata": {},
   "source": [
    "No es factible trabajar con algunas imágenes del data set porque estas ocupan más de un GB. Por lo que se trabajará con las imágenes con menor  tamaño. A continuación se presenta un analisis de algunas imágenes."
   ]
  },
  {
   "cell_type": "code",
<<<<<<< Updated upstream
   "execution_count": 5,
=======
   "execution_count": null,
>>>>>>> Stashed changes
   "metadata": {},
   "outputs": [],
   "source": [
    "Image.MAX_IMAGE_PIXELS = None\n",
    "im = Image.open(\"data/008e5c_0.tif\") #CE"
   ]
  },
  {
   "cell_type": "code",
<<<<<<< Updated upstream
   "execution_count": 6,
   "metadata": {},
   "outputs": [
    {
     "data": {
      "text/plain": [
       "(5946, 29694)"
      ]
     },
     "execution_count": 6,
     "metadata": {},
     "output_type": "execute_result"
    }
   ],
=======
   "execution_count": null,
   "metadata": {},
   "outputs": [],
>>>>>>> Stashed changes
   "source": [
    "im.size"
   ]
  },
  {
   "cell_type": "code",
<<<<<<< Updated upstream
   "execution_count": 7,
=======
   "execution_count": null,
>>>>>>> Stashed changes
   "metadata": {},
   "outputs": [],
   "source": [
    "im = np.array(im)"
   ]
  },
  {
   "cell_type": "code",
<<<<<<< Updated upstream
   "execution_count": 8,
   "metadata": {},
   "outputs": [
    {
     "data": {
      "text/plain": [
       "(29694, 5946, 3)"
      ]
     },
     "execution_count": 8,
     "metadata": {},
     "output_type": "execute_result"
    }
   ],
=======
   "execution_count": null,
   "metadata": {},
   "outputs": [],
>>>>>>> Stashed changes
   "source": [
    "im.shape"
   ]
  },
  {
   "cell_type": "code",
<<<<<<< Updated upstream
   "execution_count": 9,
   "metadata": {},
   "outputs": [
    {
     "data": {
      "text/plain": [
       "(29694, 5946)"
      ]
     },
     "execution_count": 9,
     "metadata": {},
     "output_type": "execute_result"
    }
   ],
=======
   "execution_count": null,
   "metadata": {},
   "outputs": [],
>>>>>>> Stashed changes
   "source": [
    "im = np.add.reduce(im, axis=2)//3\n",
    "im.shape"
   ]
  },
  {
   "cell_type": "code",
<<<<<<< Updated upstream
   "execution_count": 10,
   "metadata": {},
   "outputs": [
    {
     "data": {
      "text/plain": [
       "232.8209309743553"
      ]
     },
     "execution_count": 10,
     "metadata": {},
     "output_type": "execute_result"
=======
   "execution_count": null,
   "metadata": {},
   "outputs": [],
   "source": [
    "im.mean()"
   ]
  },
  {
   "cell_type": "code",
   "execution_count": null,
   "metadata": {},
   "outputs": [],
   "source": [
    "np.median(im)"
   ]
  },
  {
   "cell_type": "markdown",
   "metadata": {},
   "source": [
    "## Analisis exploratorio de los datos"
   ]
  },
  {
   "cell_type": "code",
   "execution_count": null,
   "metadata": {},
   "outputs": [],
   "source": [
    "df.head()\n"
   ]
  },
  {
   "cell_type": "code",
   "execution_count": null,
   "metadata": {},
   "outputs": [],
   "source": [
    "df.dtypes"
   ]
  },
  {
   "cell_type": "markdown",
   "metadata": {},
   "source": [
    "Podemos ver que para el dataframe correspondiente del cvs train (train.csv) contamos con 5 columnas:\n",
    "image_id es object, debido a que tiene un string mezclado de valores numericos y no numericos; Un identificador único para esta instancia con el formato {patient_id}_{image_num}. Corresponde a la imagen {image_id}.tif.\n",
    "\n",
    "center_id es int64, es decir integer; Identifica el centro médico donde se obtuvo la diapositiva.\n",
    "\n",
    "patient_id es de tipo object, es un string con caracteres numericos y no numericos; Identifica al paciente del que se obtuvo la diapositiva.\n",
    "\n",
    "image_num es int64, integer; Enumera imágenes de coágulos obtenidos del mismo paciente.\n",
    "\n",
    "label es object, en este caso string por que es la etiqueta de clasificacion; La etiología del coágulo, ya sea CE o LAA. Este campo es el objetivo de clasificación.\n"
   ]
  },
  {
   "cell_type": "code",
   "execution_count": 71,
   "metadata": {},
   "outputs": [
    {
     "name": "stdout",
     "output_type": "stream",
     "text": [
      "        center_id   image_num\n",
      "count  754.000000  754.000000\n",
      "mean     7.115385    0.226790\n",
      "std      3.504306    0.599046\n",
      "min      1.000000    0.000000\n",
      "25%      4.000000    0.000000\n",
      "50%      7.000000    0.000000\n",
      "75%     11.000000    0.000000\n",
      "max     11.000000    4.000000\n"
     ]
>>>>>>> Stashed changes
    }
   ],
   "source": [
    "df2 = df.describe()\n",
    "print(df2)"
   ]
  },
  {
   "cell_type": "code",
<<<<<<< Updated upstream
   "execution_count": 27,
   "metadata": {},
   "outputs": [
    {
     "data": {
      "text/plain": [
       "155.78840696142225"
      ]
     },
     "execution_count": 27,
     "metadata": {},
     "output_type": "execute_result"
    }
   ],
   "source": [
    "im.mean(where=(im < 255))"
   ]
  },
  {
   "cell_type": "code",
   "execution_count": 11,
=======
   "execution_count": 72,
>>>>>>> Stashed changes
   "metadata": {},
   "outputs": [
    {
     "data": {
      "image/png": "iVBORw0KGgoAAAANSUhEUgAABMIAAAJUCAYAAAD3mIrEAAAAOXRFWHRTb2Z0d2FyZQBNYXRwbG90bGliIHZlcnNpb24zLjQuMywgaHR0cHM6Ly9tYXRwbG90bGliLm9yZy/MnkTPAAAACXBIWXMAAA9hAAAPYQGoP6dpAAAm0klEQVR4nO3df6yW9X3/8dfh10GB+1ConCMTrM0sevxRJ25ysq5ZLePUotWImTqirHXasoOrsqpfEovVLsOwBq0N1GVVsZlWZ7K6yKotxQy7clCLU1EnqZsJGDwHNse5kcjhh+f7R8O9HQXxAHqLn8cjuRPu6/O57/t9JSQen1znuhv6+vr6AgAAAAAfcYPqPQAAAAAAfBCEMAAAAACKIIQBAAAAUAQhDAAAAIAiCGEAAAAAFEEIAwAAAKAIQhgAAAAARRDCAAAAACjCkHoPcCDeeuutbNy4MaNGjUpDQ0O9xwEAAACgjvr6+rJ169aMHz8+gwbt+7qvwzKEbdy4MRMmTKj3GAAAAAB8iGzYsCHHHHPMPtcPyxA2atSoJL85uUqlUudpAAAAAKinarWaCRMm1JrRvhyWIWzPr0NWKhUhDAAAAIAk2e8ttNwsHwAAAIAiCGEAAAAAFEEIAwAAAKAIQhgAAAAARRDCAAAAACiCEAYAAABAEYQwAAAAAIoghAEAAABQBCEMAAAAgCIIYQAAAAAUQQgDAAAAoAhCGAAAAABFEMIAAAAAKIIQBgAAAEARhDAAAAAAiiCEAQAAAFAEIQwAAACAIghhAAAAABRBCAMAAACgCEIYAAAAAEUQwgAAAAAoghAGAAAAQBGG1HsAqJftcxfWewSADF90Xb1HAACAYrgiDAAAAIAiCGEAAAAAFEEIAwAAAKAIQhgAAAAARRDCAAAAACiCEAYAAABAEYQwAAAAAIoghAEAAABQBCEMAAAAgCIIYQAAAAAUQQgDAAAAoAhCGAAAAABFEMIAAAAAKIIQBgAAAEARhDAAAAAAiiCEAQAAAFAEIQwAAACAIghhAAAAABRBCAMAAACgCEIYAAAAAEUQwgAAAAAoghAGAAAAQBGEMAAAAACKIIQBAAAAUAQhDAAAAIAiCGEAAAAAFEEIAwAAAKAIQhgAAAAARRDCAAAAACiCEAYAAABAEYQwAAAAAIoghAEAAABQBCEMAAAAgCIIYQAAAAAUQQgDAAAAoAhCGAAAAABFEMIAAAAAKIIQBgAAAEARhDAAAAAAijCgEPatb30rDQ0N/R4nnHBCbX379u3p6OjI2LFjM3LkyMyYMSPd3d393mP9+vWZPn16jjzyyIwbNy7XXnttdu3adWjOBgAAAAD2YchAX3DSSSfl5z//+f++wZD/fYtrrrkm//zP/5wHH3wwTU1NmTNnTi644IL88pe/TJLs3r0706dPT0tLS1atWpXXXnstl112WYYOHZq//uu/PgSnAwAAAAB7N+AQNmTIkLS0tLzjeE9PT+68887cd999Oeuss5Ikd999d0488cSsXr06U6ZMyc9+9rO8+OKL+fnPf57m5uacdtpp+fa3v53rr78+3/rWtzJs2LCDPyMAAAAA2IsB3yPs17/+dcaPH59PfvKTmTlzZtavX58kWbNmTXbu3JmpU6fW9p5wwgmZOHFiOjs7kySdnZ055ZRT0tzcXNvT3t6earWaF1544WDPBQAAAAD2aUBXhJ155plZunRpJk2alNdeey033XRT/uAP/iDPP/98urq6MmzYsIwePbrfa5qbm9PV1ZUk6erq6hfB9qzvWduX3t7e9Pb21p5Xq9WBjA0AAAAAAwthZ599du3Pp556as4888wce+yx+Yd/+IccccQRh3y4PRYsWJCbbrrpfXt/AAAAAD76Bvyrkf/X6NGj86lPfSovv/xyWlpasmPHjmzZsqXfnu7u7to9xVpaWt7xLZJ7nu/tvmN7zJs3Lz09PbXHhg0bDmZsAAAAAAp0UCHsjTfeyH/8x3/k6KOPzuTJkzN06NCsWLGitr5u3bqsX78+bW1tSZK2trasXbs2mzZtqu1Zvnx5KpVKWltb9/k5jY2NqVQq/R4AAAAAMBAD+tXIb3zjGzn33HNz7LHHZuPGjbnxxhszePDgXHLJJWlqasrll1+euXPnZsyYMalUKrnqqqvS1taWKVOmJEmmTZuW1tbWXHrppVm4cGG6urpyww03pKOjI42Nje/LCQIAAABAMsAQ9uqrr+aSSy7Jf//3f+eoo47KZz7zmaxevTpHHXVUkuTWW2/NoEGDMmPGjPT29qa9vT1LliypvX7w4MFZtmxZZs+enba2towYMSKzZs3KzTfffGjPCgAAAADepqGvr6+v3kMMVLVaTVNTU3p6evyaJAds+9yF9R4BIMMXXVfvEQAA4LD3XlvRQd0jDAAAAAAOF0IYAAAAAEUQwgAAAAAoghAGAAAAQBGEMAAAAACKIIQBAAAAUAQhDAAAAIAiCGEAAAAAFEEIAwAAAKAIQhgAAAAARRDCAAAAACiCEAYAAABAEYQwAAAAAIoghAEAAABQBCEMAAAAgCIIYQAAAAAUQQgDAAAAoAhCGAAAAABFEMIAAAAAKIIQBgAAAEARhDAAAAAAiiCEAQAAAFAEIQwAAACAIghhAAAAABRBCAMAAACgCEIYAAAAAEUQwgAAAAAoghAGAAAAQBGEMAAAAACKIIQBAAAAUAQhDAAAAIAiCGEAAAAAFEEIAwAAAKAIQhgAAAAARRDCAAAAACiCEAYAAABAEYQwAAAAAIoghAEAAABQBCEMAAAAgCIIYQAAAAAUQQgDAAAAoAhCGAAAAABFEMIAAAAAKIIQBgAAAEARhDAAAAAAiiCEAQAAAFAEIQwAAACAIghhAAAAABRBCAMAAACgCEIYAAAAAEUQwgAAAAAoghAGAAAAQBGEMAAAAACKIIQBAAAAUAQhDAAAAIAiCGEAAAAAFEEIAwAAAKAIQhgAAAAARRDCAAAAACiCEAYAAABAEYQwAAAAAIoghAEAAABQBCEMAAAAgCIIYQAAAAAUQQgDAAAAoAhCGAAAAABFEMIAAAAAKIIQBgAAAEARhDAAAAAAiiCEAQAAAFAEIQwAAACAIghhAAAAABRBCAMAAACgCEIYAAAAAEUQwgAAAAAoghAGAAAAQBGEMAAAAACKIIQBAAAAUAQhDAAAAIAiCGEAAAAAFEEIAwAAAKAIQhgAAAAARRDCAAAAACjCQYWwW265JQ0NDbn66qtrx7Zv356Ojo6MHTs2I0eOzIwZM9Ld3d3vdevXr8/06dNz5JFHZty4cbn22muza9eugxkFAAAAAN7VAYewp556Kn/7t3+bU089td/xa665Jg8//HAefPDBrFy5Mhs3bswFF1xQW9+9e3emT5+eHTt2ZNWqVbnnnnuydOnSzJ8//8DPAgAAAAD244BC2BtvvJGZM2fm7/7u7/Kxj32sdrynpyd33nlnFi1alLPOOiuTJ0/O3XffnVWrVmX16tVJkp/97Gd58cUX8/d///c57bTTcvbZZ+fb3/52Fi9enB07dhyaswIAAACAtzmgENbR0ZHp06dn6tSp/Y6vWbMmO3fu7Hf8hBNOyMSJE9PZ2Zkk6ezszCmnnJLm5ubanvb29lSr1bzwwgt7/bze3t5Uq9V+DwAAAAAYiCEDfcH999+fp59+Ok899dQ71rq6ujJs2LCMHj263/Hm5uZ0dXXV9vzfCLZnfc/a3ixYsCA33XTTQEcFAAAAgJoBXRG2YcOGfP3rX8+9996b4cOHv18zvcO8efPS09NTe2zYsOED+2wAAAAAPhoGFMLWrFmTTZs25fTTT8+QIUMyZMiQrFy5MrfffnuGDBmS5ubm7NixI1u2bOn3uu7u7rS0tCRJWlpa3vEtknue79nzdo2NjalUKv0eAAAAADAQAwphn//857N27do888wztccZZ5yRmTNn1v48dOjQrFixovaadevWZf369Wlra0uStLW1Ze3atdm0aVNtz/Lly1OpVNLa2nqITgsAAAAA+hvQPcJGjRqVk08+ud+xESNGZOzYsbXjl19+eebOnZsxY8akUqnkqquuSltbW6ZMmZIkmTZtWlpbW3PppZdm4cKF6erqyg033JCOjo40NjYeotMCAAAAgP4GfLP8/bn11lszaNCgzJgxI729vWlvb8+SJUtq64MHD86yZcsye/bstLW1ZcSIEZk1a1ZuvvnmQz0KAAAAANQ09PX19dV7iIGqVqtpampKT0+P+4VxwLbPXVjvEQAyfNF19R4BAAAOe++1FQ3oHmEAAAAAcLgSwgAAAAAoghAGAAAAQBGEMAAAAACKIIQBAAAAUAQhDAAAAIAiCGEAAAAAFEEIAwAAAKAIQhgAAAAARRDCAAAAACiCEAYAAABAEYQwAAAAAIoghAEAAABQBCEMAAAAgCIIYQAAAAAUQQgDAAAAoAhCGAAAAABFEMIAAAAAKIIQBgAAAEARhDAAAAAAiiCEAQAAAFAEIQwAAACAIghhAAAAABRBCAMAAACgCEIYAAAAAEUQwgAAAAAoghAGAAAAQBGEMAAAAACKIIQBAAAAUAQhDAAAAIAiCGEAAAAAFEEIAwAAAKAIQhgAAAAARRDCAAAAACiCEAYAAABAEYQwAAAAAIoghAEAAABQBCEMAAAAgCIIYQAAAAAUQQgDAAAAoAhCGAAAAABFEMIAAAAAKIIQBgAAAEARhDAAAAAAiiCEAQAAAFAEIQwAAACAIghhAAAAABRBCAMAAACgCEIYAAAAAEUQwgAAAAAoghAGAAAAQBGEMAAAAACKIIQBAAAAUAQhDAAAAIAiCGEAAAAAFEEIAwAAAKAIQhgAAAAARRDCAAAAACiCEAYAAABAEYQwAAAAAIoghAEAAABQBCEMAAAAgCIIYQAAAAAUQQgDAAAAoAhCGAAAAABFEMIAAAAAKIIQBgAAAEARhDAAAAAAiiCEAQAAAFAEIQwAAACAIghhAAAAABRBCAMAAACgCEIYAAAAAEUQwgAAAAAoghAGAAAAQBGEMAAAAACKIIQBAAAAUAQhDAAAAIAiCGEAAAAAFEEIAwAAAKAIQhgAAAAARRDCAAAAACiCEAYAAABAEQYUwr7//e/n1FNPTaVSSaVSSVtbWx555JHa+vbt29PR0ZGxY8dm5MiRmTFjRrq7u/u9x/r16zN9+vQceeSRGTduXK699trs2rXr0JwNAAAAAOzDgELYMccck1tuuSVr1qzJr371q5x11lk577zz8sILLyRJrrnmmjz88MN58MEHs3LlymzcuDEXXHBB7fW7d+/O9OnTs2PHjqxatSr33HNPli5dmvnz5x/aswIAAACAt2no6+vrO5g3GDNmTP7mb/4mF154YY466qjcd999ufDCC5MkL730Uk488cR0dnZmypQpeeSRR3LOOedk48aNaW5uTpLccccduf7667N58+YMGzbsPX1mtVpNU1NTenp6UqlUDmZ8CrZ97sJ6jwCQ4Yuuq/cIAABw2HuvreiA7xG2e/fu3H///dm2bVva2tqyZs2a7Ny5M1OnTq3tOeGEEzJx4sR0dnYmSTo7O3PKKafUIliStLe3p1qt1q4q25ve3t5Uq9V+DwAAAAAYiAGHsLVr12bkyJFpbGzM1772tfz4xz9Oa2trurq6MmzYsIwePbrf/ubm5nR1dSVJurq6+kWwPet71vZlwYIFaWpqqj0mTJgw0LEBAAAAKNyAQ9ikSZPyzDPP5Iknnsjs2bMza9asvPjii+/HbDXz5s1LT09P7bFhw4b39fMAAAAA+OgZMtAXDBs2LL/927+dJJk8eXKeeuqpfPe7381FF12UHTt2ZMuWLf2uCuvu7k5LS0uSpKWlJU8++WS/99vzrZJ79uxNY2NjGhsbBzoqAAAAANQc8D3C9njrrbfS29ubyZMnZ+jQoVmxYkVtbd26dVm/fn3a2tqSJG1tbVm7dm02bdpU27N8+fJUKpW0trYe7CgAAAAAsE8DuiJs3rx5OfvsszNx4sRs3bo19913X/7lX/4lP/3pT9PU1JTLL788c+fOzZgxY1KpVHLVVVelra0tU6ZMSZJMmzYtra2tufTSS7Nw4cJ0dXXlhhtuSEdHhyu+AAAAAHhfDSiEbdq0KZdddllee+21NDU15dRTT81Pf/rT/NEf/VGS5NZbb82gQYMyY8aM9Pb2pr29PUuWLKm9fvDgwVm2bFlmz56dtra2jBgxIrNmzcrNN998aM8KAAAAAN6moa+vr6/eQwxUtVpNU1NTenp6UqlU6j0Oh6ntcxfWewSADF90Xb1HAACAw957bUUHfY8wAAAAADgcCGEAAAAAFEEIAwAAAKAIQhgAAAAARRDCAAAAACiCEAYAAABAEYQwAAAAAIoghAEAAABQBCEMAAAAgCIIYQAAAAAUQQgDAAAAoAhCGAAAAABFEMIAAAAAKIIQBgAAAEARhDAAAAAAiiCEAQAAAFAEIQwAAACAIghhAAAAABRBCAMAAACgCEIYAAAAAEUQwgAAAAAoghAGAAAAQBGEMAAAAACKIIQBAAAAUAQhDAAAAIAiCGEAAAAAFEEIAwAAAKAIQhgAAAAARRDCAAAAACiCEAYAAABAEYQwAAAAAIoghAEAAABQBCEMAAAAgCIIYQAAAAAUQQgDAAAAoAhCGAAAAABFEMIAAAAAKIIQBgAAAEARhDAAAAAAiiCEAQAAAFAEIQwAAACAIghhAAAAABRBCAMAAACgCEIYAAAAAEUQwgAAAAAoghAGAAAAQBGEMAAAAACKIIQBAAAAUAQhDAAAAIAiCGEAAAAAFEEIAwAAAKAIQhgAAAAARRDCAAAAACiCEAYAAABAEYQwAAAAAIoghAEAAABQBCEMAAAAgCIIYQAAAAAUQQgDAAAAoAhCGAAAAABFEMIAAAAAKIIQBgAAAEARhDAAAAAAiiCEAQAAAFAEIQwAAACAIghhAAAAABRBCAMAAACgCEIYAAAAAEUQwgAAAAAoghAGAAAAQBGEMAAAAACKIIQBAAAAUAQhDAAAAIAiCGEAAAAAFEEIAwAAAKAIQhgAAAAARRDCAAAAACiCEAYAAABAEYQwAAAAAIoghAEAAABQBCEMAAAAgCIMqfcAAABAff3bdyfXewSgcL/z9TX1HoFCuCIMAAAAgCIMKIQtWLAgv/u7v5tRo0Zl3LhxOf/887Nu3bp+e7Zv356Ojo6MHTs2I0eOzIwZM9Ld3d1vz/r16zN9+vQceeSRGTduXK699trs2rXr4M8GAAAAAPZhQCFs5cqV6ejoyOrVq7N8+fLs3Lkz06ZNy7Zt22p7rrnmmjz88MN58MEHs3LlymzcuDEXXHBBbX337t2ZPn16duzYkVWrVuWee+7J0qVLM3/+/EN3VgAAAADwNg19fX19B/rizZs3Z9y4cVm5cmU++9nPpqenJ0cddVTuu+++XHjhhUmSl156KSeeeGI6OzszZcqUPPLIIznnnHOycePGNDc3J0nuuOOOXH/99dm8eXOGDRu238+tVqtpampKT09PKpXKgY5P4bbPXVjvEQAyfNF19R4BwD3CgLpzjzAO1nttRQd1j7Cenp4kyZgxY5Ika9asyc6dOzN16tTanhNOOCETJ05MZ2dnkqSzszOnnHJKLYIlSXt7e6rVal544YW9fk5vb2+q1Wq/BwAAAAAMxAGHsLfeeitXX311fv/3fz8nn3xykqSrqyvDhg3L6NGj++1tbm5OV1dXbc//jWB71ves7c2CBQvS1NRUe0yYMOFAxwYAAACgUAccwjo6OvL888/n/vvvP5Tz7NW8efPS09NTe2zYsOF9/0wAAAAAPlqGHMiL5syZk2XLluXxxx/PMcccUzve0tKSHTt2ZMuWLf2uCuvu7k5LS0ttz5NPPtnv/fZ8q+SePW/X2NiYxsbGAxkVAAAAAJIM8Iqwvr6+zJkzJz/+8Y/z2GOP5bjjjuu3Pnny5AwdOjQrVqyoHVu3bl3Wr1+ftra2JElbW1vWrl2bTZs21fYsX748lUolra2tB3MuAAAAALBPA7oirKOjI/fdd1/+6Z/+KaNGjard06upqSlHHHFEmpqacvnll2fu3LkZM2ZMKpVKrrrqqrS1tWXKlClJkmnTpqW1tTWXXnppFi5cmK6urtxwww3p6Ohw1RcAAAAA75sBhbDvf//7SZI//MM/7Hf87rvvzp/+6Z8mSW699dYMGjQoM2bMSG9vb9rb27NkyZLa3sGDB2fZsmWZPXt22traMmLEiMyaNSs333zzwZ0JAAAAALyLAYWwvr6+/e4ZPnx4Fi9enMWLF+9zz7HHHpuf/OQnA/loAAAAADgoB/ytkQAAAABwOBHCAAAAACiCEAYAAABAEYQwAAAAAIoghAEAAABQBCEMAAAAgCIIYQAAAAAUQQgDAAAAoAhCGAAAAABFEMIAAAAAKIIQBgAAAEARhDAAAAAAiiCEAQAAAFAEIQwAAACAIghhAAAAABRBCAMAAACgCEIYAAAAAEUQwgAAAAAoghAGAAAAQBGEMAAAAACKIIQBAAAAUAQhDAAAAIAiCGEAAAAAFEEIAwAAAKAIQhgAAAAARRDCAAAAACiCEAYAAABAEYQwAAAAAIoghAEAAABQBCEMAAAAgCIIYQAAAAAUQQgDAAAAoAhCGAAAAABFEMIAAAAAKIIQBgAAAEARhDAAAAAAiiCEAQAAAFAEIQwAAACAIghhAAAAABRBCAMAAACgCEIYAAAAAEUQwgAAAAAoghAGAAAAQBGEMAAAAACKIIQBAAAAUAQhDAAAAIAiCGEAAAAAFEEIAwAAAKAIQhgAAAAARRDCAAAAACiCEAYAAABAEYQwAAAAAIoghAEAAABQBCEMAAAAgCIIYQAAAAAUQQgDAAAAoAhCGAAAAABFEMIAAAAAKIIQBgAAAEARhDAAAAAAiiCEAQAAAFAEIQwAAACAIghhAAAAABRBCAMAAACgCEIYAAAAAEUQwgAAAAAoghAGAAAAQBGEMAAAAACKIIQBAAAAUAQhDAAAAIAiCGEAAAAAFEEIAwAAAKAIQhgAAAAARRDCAAAAACiCEAYAAABAEYQwAAAAAIoghAEAAABQBCEMAAAAgCIIYQAAAAAUQQgDAAAAoAhCGAAAAABFEMIAAAAAKIIQBgAAAEARBhzCHn/88Zx77rkZP358Ghoa8tBDD/Vb7+vry/z583P00UfniCOOyNSpU/PrX/+6357XX389M2fOTKVSyejRo3P55ZfnjTfeOKgTAQAAAIB3M+AQtm3btnz605/O4sWL97q+cOHC3H777bnjjjvyxBNPZMSIEWlvb8/27dtre2bOnJkXXnghy5cvz7Jly/L444/nyiuvPPCzAAAAAID9GDLQF5x99tk5++yz97rW19eX2267LTfccEPOO++8JMkPf/jDNDc356GHHsrFF1+cf//3f8+jjz6ap556KmeccUaS5Hvf+16++MUv5jvf+U7Gjx9/EKcDAAAAAHt3SO8R9sorr6SrqytTp06tHWtqasqZZ56Zzs7OJElnZ2dGjx5di2BJMnXq1AwaNChPPPHEXt+3t7c31Wq13wMAAAAABuKQhrCurq4kSXNzc7/jzc3NtbWurq6MGzeu3/qQIUMyZsyY2p63W7BgQZqammqPCRMmHMqxAQAAACjAYfGtkfPmzUtPT0/tsWHDhnqPBAAAAMBh5pCGsJaWliRJd3d3v+Pd3d21tZaWlmzatKnf+q5du/L666/X9rxdY2NjKpVKvwcAAAAADMQhDWHHHXdcWlpasmLFitqxarWaJ554Im1tbUmStra2bNmyJWvWrKnteeyxx/LWW2/lzDPPPJTjAAAAAEDNgL818o033sjLL79ce/7KK6/kmWeeyZgxYzJx4sRcffXV+au/+qscf/zxOe644/LNb34z48ePz/nnn58kOfHEE/OFL3whV1xxRe64447s3Lkzc+bMycUXX+wbIwEAAAB43ww4hP3qV7/K5z73udrzuXPnJklmzZqVpUuX5rrrrsu2bdty5ZVXZsuWLfnMZz6TRx99NMOHD6+95t57782cOXPy+c9/PoMGDcqMGTNy++23H4LTAQAAAIC9a+jr6+ur9xADVa1W09TUlJ6eHvcL44Btn7uw3iMAZPii6+o9AkD+7buT6z0CULjf+fqa/W+Cd/FeW9Fh8a2RAAAAAHCwhDAAAAAAiiCEAQAAAFAEIQwAAACAIghhAAAAABRBCAMAAACgCEIYAAAAAEUQwgAAAAAoghAGAAAAQBGEMAAAAACKIIQBAAAAUAQhDAAAAIAiCGEAAAAAFEEIAwAAAKAIQhgAAAAARRDCAAAAACiCEAYAAABAEYQwAAAAAIoghAEAAABQBCEMAAAAgCIIYQAAAAAUQQgDAAAAoAhCGAAAAABFEMIAAAAAKIIQBgAAAEARhDAAAAAAiiCEAQAAAFAEIQwAAACAIghhAAAAABRBCAMAAACgCEIYAAAAAEUQwgAAAAAoghAGAAAAQBGEMAAAAACKIIQBAAAAUAQhDAAAAIAiCGEAAAAAFEEIAwAAAKAIQhgAAAAARRDCAAAAACiCEAYAAABAEYQwAAAAAIoghAEAAABQBCEMAAAAgCIIYQAAAAAUQQgDAAAAoAhCGAAAAABFEMIAAAAAKIIQBgAAAEARhDAAAAAAiiCEAQAAAFAEIQwAAACAIghhAAAAABRBCAMAAACgCEIYAAAAAEUQwgAAAAAoghAGAAAAQBGEMAAAAACKIIQBAAAAUAQhDAAAAIAiCGEAAAAAFEEIAwAAAKAIQhgAAAAARRDCAAAAACiCEAYAAABAEYQwAAAAAIoghAEAAABQBCEMAAAAgCIIYQAAAAAUQQgDAAAAoAhCGAAAAABFEMIAAAAAKIIQBgAAAEARhDAAAAAAiiCEAQAAAFAEIQwAAACAIghhAAAAABRBCAMAAACgCEIYAAAAAEUQwgAAAAAoghAGAAAAQBGEMAAAAACKUNcQtnjx4nziE5/I8OHDc+aZZ+bJJ5+s5zgAAAAAfITVLYQ98MADmTt3bm688cY8/fTT+fSnP5329vZs2rSpXiMBAAAA8BFWtxC2aNGiXHHFFfnyl7+c1tbW3HHHHTnyyCNz11131WskAAAAAD7C6hLCduzYkTVr1mTq1Kn/O8igQZk6dWo6OzvrMRIAAAAAH3FD6vGh//Vf/5Xdu3enubm53/Hm5ua89NJL79jf29ub3t7e2vOenp4kSbVafX8H5SNte+/2eo8AkB3+WwZ8CLyxfXe9RwAK5//vOVh7/g719fW96766hLCBWrBgQW666aZ3HJ8wYUIdpgGAQ2jJjfWeAACg/v5fU70n4CNi69ataWra99+nuoSwj3/84xk8eHC6u7v7He/u7k5LS8s79s+bNy9z586tPX/rrbfy+uuvZ+zYsWloaHjf5wXYm2q1mgkTJmTDhg2pVCr1HgcAoC78TAR8GPT19WXr1q0ZP378u+6rSwgbNmxYJk+enBUrVuT8889P8pu4tWLFisyZM+cd+xsbG9PY2Njv2OjRoz+ASQH2r1Kp+KEPACien4mAenu3K8H2qNuvRs6dOzezZs3KGWeckd/7vd/Lbbfdlm3btuXLX/5yvUYCAAAA4COsbiHsoosuyubNmzN//vx0dXXltNNOy6OPPvqOG+gDAAAAwKFQ15vlz5kzZ6+/CglwOGhsbMyNN974jl/dBgAoiZ+JgMNJQ9/+vlcSAAAAAD4CBtV7AAAAAAD4IAhhAAAAABRBCAMAAACgCEIYAAAAAEUQwgAAAAAoghAGsB8LFy7Mm2++WXv+y1/+Mr29vbXnW7duzZ//+Z/XYzQAgA+d559/vt4jAOxTQ19fX1+9hwD4MBs8eHBee+21jBs3LklSqVTyzDPP5JOf/GSSpLu7O+PHj8/u3bvrOSYAQN1s3bo1P/rRj/KDH/wga9as8XMR8KHlijCA/Xj7vxf49wMAgN94/PHHM2vWrBx99NH5zne+k7POOiurV6+u91gA+zSk3gMAAABw+Ojq6srSpUtz5513plqt5o//+I/T29ubhx56KK2trfUeD+BduSIMAACA9+Tcc8/NpEmT8txzz+W2227Lxo0b873vfa/eYwG8Z64IA3gPfvCDH2TkyJFJkl27dmXp0qX5+Mc/nuQ398QAACjBI488kr/4i7/I7Nmzc/zxx9d7HIABc7N8gP34xCc+kYaGhv3ue+WVVz6AaQAA6mf16tW5884788ADD+TEE0/MpZdemosvvjhHH310nn32Wb8aCXzoCWEAAAAMyLZt2/LAAw/krrvuypNPPpndu3dn0aJF+cpXvpJRo0bVezyAfXKPMID9eOyxx9La2ppqtfqOtZ6enpx00kn5xS9+UYfJAADqY8SIEfnKV76Sf/3Xf83atWvzl3/5l7nlllsybty4fOlLX6r3eAD7JIQB7Mdtt92WK664IpVK5R1rTU1N+epXv5pFixbVYTIAgPqbNGlSFi5cmFdffTU/+tGP6j0OwLsSwgD249lnn80XvvCFfa5PmzYta9as+QAnAgD48Bk8eHC+9KUv5corr6z3KAD75FsjAfaju7s7Q4cO3ef6kCFDsnnz5g9wIgCAD5eXX345d911V5YuXZrNmzdn586d9R4JYK9cEQawH7/1W7+V559/fp/rzz33XI4++ugPcCIAgPp7880388Mf/jCf/exnM2nSpKxatSrz58/Pq6++Wu/RAPZJCAPYjy9+8Yv55je/me3bt79j7c0338yNN96Yc845pw6TAQB88J566ql89atfTUtLS2677bacd955aWhoyJIlS/K1r30tzc3N9R4RYJ8a+vr6+uo9BMCHWXd3d04//fQMHjw4c+bMyaRJk5IkL730UhYvXpzdu3fn6aef9kMfAPCRd+qpp6ZareZP/uRPMnPmzJx00klJkqFDh+bZZ59Na2trnScEeHfuEQawH83NzVm1alVmz56defPmZc+/HzQ0NKS9vT2LFy8WwQCAIqxbty4XXXRRPve5z4lewGFJCAN4D4499tj85Cc/yf/8z//k5ZdfTl9fX44//vh87GMfq/doAAAfmP/8z//M0qVLM3v27Lz55pu55JJLMnPmzDQ0NNR7NID3xK9GAgAAMGCPPfZY7rrrrvzjP/5jtm/fnm984xv5sz/7s3zqU5+q92gA+ySEAQAAcMB6enpy77335q677srTTz+dk08+Oc8991y9xwLYKyEMAACAQ+IXv/hFli5dmjvvvLPeowDslRAGAADAIfHss8/m9NNPz+7du+s9CsBeDar3AAAAAADwQRDCAAAAACiCEAYAAABAEYbUewAAAAAODxdccMG7rm/ZsuWDGQTgAAlhAAAAvCdNTU37Xb/ssss+oGkABs63RgIAAABQBPcIAwAAAKAIQhgAAAAARRDCAAAAACiCEAYAAABAEYQwAAAAAIoghAEAAABQBCEMAAAAgCIIYQAAAAAU4f8DwRt7r8vLl6oAAAAASUVORK5CYII=",
      "text/plain": [
       "<Figure size 1500x700 with 1 Axes>"
      ]
     },
<<<<<<< Updated upstream
     "execution_count": 11,
=======
>>>>>>> Stashed changes
     "metadata": {},
     "output_type": "display_data"
    }
   ],
   "source": [
    "# print(df['label'].value_counts())\n",
    "label = df['label'].value_counts()\n",
    "label\n",
    "\n",
    "# sns.barplot(data=label)\n",
    "label.plot(kind='bar', x = 'label', y = 'cantidad de casos', figsize=(15, 7), color=sns.color_palette(\"husl\", 8))\n",
    "plt.show()"
   ]
  },
  {
   "cell_type": "markdown",
   "metadata": {},
   "source": [
    "Realizando un recorrido a traves de la variable label, se puede observar que la variable label es categorica, y que la variable label tiene 2 categorias CE o LAA. \n",
    "En el dataframe podemos observar que existen para CE una cantidad de valores: 547 y para LAA una cantidad de valores: 207. \n",
    "Esto nos indica que mas de la mitad de los valores estan catecorizados como CE. "
   ]
  },
  {
   "cell_type": "code",
   "execution_count": 19,
   "metadata": {},
   "outputs": [
    {
     "data": {
      "text/plain": [
       "(8267, 10533, 3)"
      ]
     },
     "execution_count": 19,
     "metadata": {},
     "output_type": "execute_result"
    }
   ],
   "source": [
    "im2 = np.array(Image.open(\"data/026c97_0.tif\"))\n",
    "im2.shape"
   ]
  },
  {
   "cell_type": "code",
   "execution_count": 20,
   "metadata": {},
   "outputs": [
    {
     "data": {
      "text/plain": [
       "(8267, 10533)"
      ]
     },
     "execution_count": 20,
     "metadata": {},
     "output_type": "execute_result"
    }
   ],
   "source": [
    "im2 = np.add.reduce(im2, axis=2)//3\n",
    "im2.shape"
   ]
  },
  {
   "cell_type": "code",
   "execution_count": 25,
   "metadata": {},
   "outputs": [
    {
     "data": {
      "text/plain": [
       "224.17265025157073"
      ]
     },
     "execution_count": 25,
     "metadata": {},
     "output_type": "execute_result"
    }
   ],
   "source": [
    "im2.mean()"
   ]
  },
  {
   "cell_type": "code",
   "execution_count": 26,
   "metadata": {},
   "outputs": [
    {
     "data": {
      "text/plain": [
       "173.64449469839235"
      ]
     },
     "execution_count": 26,
     "metadata": {},
     "output_type": "execute_result"
    }
   ],
   "source": [
    "im2.mean(where=(im2 < 255))"
   ]
  },
  {
   "cell_type": "code",
   "execution_count": 30,
   "metadata": {},
   "outputs": [
    {
     "data": {
      "text/plain": [
       "255.0"
      ]
     },
     "execution_count": 30,
     "metadata": {},
     "output_type": "execute_result"
    }
   ],
   "source": [
    "np.median(im2)"
   ]
  },
  {
   "cell_type": "markdown",
   "metadata": {},
   "source": [
    "La gran mayoría de los pixeles de las imágenes son blancos. "
   ]
  }
 ],
 "metadata": {
  "kernelspec": {
   "display_name": "Python 3.7.0 64-bit",
   "language": "python",
   "name": "python3"
  },
  "language_info": {
   "codemirror_mode": {
    "name": "ipython",
    "version": 3
   },
   "file_extension": ".py",
   "mimetype": "text/x-python",
   "name": "python",
   "nbconvert_exporter": "python",
   "pygments_lexer": "ipython3",
   "version": "3.7.0"
  },
  "orig_nbformat": 4,
  "vscode": {
   "interpreter": {
    "hash": "5109d816b82be14675a6b11f8e0f0d2e80f029176ed3710d54e125caa8520dfd"
   }
  }
 },
 "nbformat": 4,
 "nbformat_minor": 2
}
