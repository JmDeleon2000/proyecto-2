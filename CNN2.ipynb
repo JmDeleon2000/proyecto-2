{
 "cells": [
  {
   "cell_type": "code",
   "execution_count": 3,
   "metadata": {},
   "outputs": [],
   "source": [
    "import pandas as pd\n",
    "from tensorflow import keras\n",
    "from tensorflow.keras import layers\n",
    "import numpy as np\n",
    "import matplotlib.pyplot as plt\n",
    "from PIL import Image\n",
    "from math import pi"
   ]
  },
  {
   "cell_type": "code",
   "execution_count": 4,
   "metadata": {},
   "outputs": [
    {
     "data": {
      "text/html": [
       "<div>\n",
       "<style scoped>\n",
       "    .dataframe tbody tr th:only-of-type {\n",
       "        vertical-align: middle;\n",
       "    }\n",
       "\n",
       "    .dataframe tbody tr th {\n",
       "        vertical-align: top;\n",
       "    }\n",
       "\n",
       "    .dataframe thead th {\n",
       "        text-align: right;\n",
       "    }\n",
       "</style>\n",
       "<table border=\"1\" class=\"dataframe\">\n",
       "  <thead>\n",
       "    <tr style=\"text-align: right;\">\n",
       "      <th></th>\n",
       "      <th>image_id</th>\n",
       "      <th>label</th>\n",
       "    </tr>\n",
       "  </thead>\n",
       "  <tbody>\n",
       "    <tr>\n",
       "      <th>0</th>\n",
       "      <td>006388_0</td>\n",
       "      <td>CE</td>\n",
       "    </tr>\n",
       "    <tr>\n",
       "      <th>1</th>\n",
       "      <td>008e5c_0</td>\n",
       "      <td>CE</td>\n",
       "    </tr>\n",
       "    <tr>\n",
       "      <th>2</th>\n",
       "      <td>00c058_0</td>\n",
       "      <td>LAA</td>\n",
       "    </tr>\n",
       "    <tr>\n",
       "      <th>3</th>\n",
       "      <td>01adc5_0</td>\n",
       "      <td>LAA</td>\n",
       "    </tr>\n",
       "    <tr>\n",
       "      <th>4</th>\n",
       "      <td>026c97_0</td>\n",
       "      <td>CE</td>\n",
       "    </tr>\n",
       "  </tbody>\n",
       "</table>\n",
       "</div>"
      ],
      "text/plain": [
       "   image_id label\n",
       "0  006388_0    CE\n",
       "1  008e5c_0    CE\n",
       "2  00c058_0   LAA\n",
       "3  01adc5_0   LAA\n",
       "4  026c97_0    CE"
      ]
     },
     "execution_count": 4,
     "metadata": {},
     "output_type": "execute_result"
    }
   ],
   "source": [
    "df = pd.read_csv('data/train.csv').dropna()\n",
    "df.drop(columns=['center_id', 'patient_id', 'image_num'], inplace=True)\n",
    "df.head()"
   ]
  },
  {
   "cell_type": "code",
   "execution_count": 5,
   "metadata": {},
   "outputs": [
    {
     "data": {
      "text/plain": [
       "547"
      ]
     },
     "execution_count": 5,
     "metadata": {},
     "output_type": "execute_result"
    }
   ],
   "source": [
    "CE_count = df.where(df['label'] == 'CE').count()[0]\n",
    "CE_count"
   ]
  },
  {
   "cell_type": "code",
   "execution_count": 6,
   "metadata": {},
   "outputs": [
    {
     "data": {
      "text/plain": [
       "207"
      ]
     },
     "execution_count": 6,
     "metadata": {},
     "output_type": "execute_result"
    }
   ],
   "source": [
    "LAA_count = df.where(df['label'] == 'LAA').count()[0]\n",
    "LAA_count"
   ]
  },
  {
   "cell_type": "code",
   "execution_count": 7,
   "metadata": {},
   "outputs": [
    {
     "data": {
      "text/plain": [
       "207"
      ]
     },
     "execution_count": 7,
     "metadata": {},
     "output_type": "execute_result"
    }
   ],
   "source": [
    "cutoff = CE_count if CE_count < LAA_count else LAA_count\n",
    "cutoff"
   ]
  },
  {
   "cell_type": "code",
   "execution_count": 8,
   "metadata": {},
   "outputs": [],
   "source": [
    "CE = df.where(df['label'] == 'CE').dropna().head(cutoff)\n",
    "LAA = df.where(df['label'] == 'LAA').dropna().head(cutoff)"
   ]
  },
  {
   "cell_type": "code",
   "execution_count": 9,
   "metadata": {},
   "outputs": [
    {
     "data": {
      "text/html": [
       "<div>\n",
       "<style scoped>\n",
       "    .dataframe tbody tr th:only-of-type {\n",
       "        vertical-align: middle;\n",
       "    }\n",
       "\n",
       "    .dataframe tbody tr th {\n",
       "        vertical-align: top;\n",
       "    }\n",
       "\n",
       "    .dataframe thead th {\n",
       "        text-align: right;\n",
       "    }\n",
       "</style>\n",
       "<table border=\"1\" class=\"dataframe\">\n",
       "  <thead>\n",
       "    <tr style=\"text-align: right;\">\n",
       "      <th></th>\n",
       "      <th>image_id</th>\n",
       "      <th>label</th>\n",
       "    </tr>\n",
       "  </thead>\n",
       "  <tbody>\n",
       "    <tr>\n",
       "      <th>0</th>\n",
       "      <td>006388_0</td>\n",
       "      <td>CE</td>\n",
       "    </tr>\n",
       "    <tr>\n",
       "      <th>1</th>\n",
       "      <td>008e5c_0</td>\n",
       "      <td>CE</td>\n",
       "    </tr>\n",
       "    <tr>\n",
       "      <th>4</th>\n",
       "      <td>026c97_0</td>\n",
       "      <td>CE</td>\n",
       "    </tr>\n",
       "    <tr>\n",
       "      <th>6</th>\n",
       "      <td>029c68_0</td>\n",
       "      <td>CE</td>\n",
       "    </tr>\n",
       "    <tr>\n",
       "      <th>7</th>\n",
       "      <td>032f10_0</td>\n",
       "      <td>CE</td>\n",
       "    </tr>\n",
       "    <tr>\n",
       "      <th>...</th>\n",
       "      <td>...</td>\n",
       "      <td>...</td>\n",
       "    </tr>\n",
       "    <tr>\n",
       "      <th>740</th>\n",
       "      <td>fd684f_0</td>\n",
       "      <td>LAA</td>\n",
       "    </tr>\n",
       "    <tr>\n",
       "      <th>745</th>\n",
       "      <td>fde9ba_0</td>\n",
       "      <td>LAA</td>\n",
       "    </tr>\n",
       "    <tr>\n",
       "      <th>750</th>\n",
       "      <td>fe9bec_0</td>\n",
       "      <td>LAA</td>\n",
       "    </tr>\n",
       "    <tr>\n",
       "      <th>752</th>\n",
       "      <td>ffec5c_0</td>\n",
       "      <td>LAA</td>\n",
       "    </tr>\n",
       "    <tr>\n",
       "      <th>753</th>\n",
       "      <td>ffec5c_1</td>\n",
       "      <td>LAA</td>\n",
       "    </tr>\n",
       "  </tbody>\n",
       "</table>\n",
       "<p>414 rows × 2 columns</p>\n",
       "</div>"
      ],
      "text/plain": [
       "     image_id label\n",
       "0    006388_0    CE\n",
       "1    008e5c_0    CE\n",
       "4    026c97_0    CE\n",
       "6    029c68_0    CE\n",
       "7    032f10_0    CE\n",
       "..        ...   ...\n",
       "740  fd684f_0   LAA\n",
       "745  fde9ba_0   LAA\n",
       "750  fe9bec_0   LAA\n",
       "752  ffec5c_0   LAA\n",
       "753  ffec5c_1   LAA\n",
       "\n",
       "[414 rows x 2 columns]"
      ]
     },
     "execution_count": 9,
     "metadata": {},
     "output_type": "execute_result"
    }
   ],
   "source": [
    "data = pd.concat([CE, LAA]).dropna()\n",
    "data.head(cutoff*2)"
   ]
  },
  {
   "cell_type": "code",
   "execution_count": 10,
   "metadata": {},
   "outputs": [
    {
     "data": {
      "text/plain": [
       "(414, 512, 512)"
      ]
     },
     "execution_count": 10,
     "metadata": {},
     "output_type": "execute_result"
    }
   ],
   "source": [
    "images = np.array([np.array(Image.open(f'jpgs/{img_id}.jpg')) for img_id in data['image_id']])\n",
    "images.shape"
   ]
  },
  {
   "cell_type": "code",
   "execution_count": 11,
   "metadata": {},
   "outputs": [],
   "source": [
    "enc_labels = np.zeros(shape=(414, 2))\n",
    "for i, label in enumerate(data['label']):\n",
    "    enc_labels[i][1 if label == 'CE' else 0] = 1"
   ]
  },
  {
   "cell_type": "code",
   "execution_count": 12,
   "metadata": {},
   "outputs": [
    {
     "data": {
      "text/plain": [
       "(None, 2)"
      ]
     },
     "execution_count": 12,
     "metadata": {},
     "output_type": "execute_result"
    }
   ],
   "source": [
    "keras.utils.set_random_seed(1234)\n",
    "ConvNN = keras.Sequential()\n",
    "ConvNN.bias = 0.5\n",
    "ConvNN.add(keras.layers.Input((512, 512)))\n",
    "ConvNN.add(keras.layers.Rescaling(1.0/255))\n",
    "\n",
    "ConvNN.add(keras.layers.RandomFlip(\n",
    "    mode=\"horizontal_and_vertical\", seed=1234\n",
    "))\n",
    "\n",
    "ConvNN.add(keras.layers.RandomRotation(\n",
    "    (-0.5, 0.5),\n",
    "    fill_mode=\"constant\",\n",
    "    interpolation=\"bilinear\",\n",
    "    seed=1234\n",
    "))\n",
    "\n",
    "ConvNN.add(keras.layers.RandomZoom(\n",
    "    (-0.2, 0.01),\n",
    "    width_factor=(-0.2, 0.01),\n",
    "    fill_mode=\"constant\",\n",
    "    interpolation=\"bilinear\",\n",
    "    seed=1234\n",
    "))\n",
    "\n",
    "ConvNN.add(keras.layers.Convolution1D(256, (4), strides=(2), activation='relu'))\n",
    "ConvNN.add(keras.layers.MaxPool1D(2))\n",
    "\n",
    "ConvNN.add(keras.layers.Convolution1D(128, (4), strides=(2), activation='relu'))\n",
    "ConvNN.add(keras.layers.MaxPool1D(2))\n",
    "\n",
    "ConvNN.add(keras.layers.Convolution1D(64,  (4), strides=(2), activation='relu'))\n",
    "ConvNN.add(keras.layers.MaxPool1D(2))\n",
    "\n",
    "ConvNN.add(keras.layers.Flatten())\n",
    "ConvNN.add(keras.layers.Dense(262144, activation='relu'))\n",
    "ConvNN.add(keras.layers.Dense(512, activation='relu'))\n",
    "ConvNN.add(keras.layers.Dense(256,  activation='relu'))\n",
    "\n",
    "ConvNN.add(keras.layers.Dropout(.5))\n",
    "\n",
    "ConvNN.add(keras.layers.Dense(2, activation='softmax'))\n",
    "ConvNN.output_shape"
   ]
  },
  {
   "cell_type": "code",
   "execution_count": 13,
   "metadata": {},
   "outputs": [],
   "source": [
    "callbacksConv = [\n",
    "    keras.callbacks.ModelCheckpoint(\"convNNv2_save_at_{epoch}.h5\"),\n",
    "]"
   ]
  },
  {
   "cell_type": "code",
   "execution_count": 14,
   "metadata": {},
   "outputs": [],
   "source": [
    "ConvNN.compile( metrics=[\"accuracy\"], \n",
    "optimizer = keras.optimizers.Adam(learning_rate=1e-3), \n",
    "loss=\"categorical_crossentropy\")"
   ]
  },
  {
   "cell_type": "code",
   "execution_count": 15,
   "metadata": {},
   "outputs": [
    {
     "name": "stdout",
     "output_type": "stream",
     "text": [
      "Epoch 1/25\n",
      "13/13 [==============================] - 110s 8s/step - loss: 1.2711 - accuracy: 0.5217\n",
      "Epoch 2/25\n",
      "13/13 [==============================] - 84s 7s/step - loss: 0.7000 - accuracy: 0.4662\n",
      "Epoch 3/25\n",
      "13/13 [==============================] - 94s 8s/step - loss: 0.7054 - accuracy: 0.4879\n",
      "Epoch 4/25\n",
      "13/13 [==============================] - 104s 8s/step - loss: 0.6935 - accuracy: 0.5338\n",
      "Epoch 5/25\n",
      "13/13 [==============================] - 94s 8s/step - loss: 0.7218 - accuracy: 0.4928\n",
      "Epoch 6/25\n",
      "13/13 [==============================] - 99s 8s/step - loss: 0.7037 - accuracy: 0.4710\n",
      "Epoch 7/25\n",
      "13/13 [==============================] - 82s 7s/step - loss: 0.6936 - accuracy: 0.4976\n",
      "Epoch 8/25\n",
      "13/13 [==============================] - 82s 7s/step - loss: 0.7011 - accuracy: 0.4734\n",
      "Epoch 9/25\n",
      "13/13 [==============================] - 94s 8s/step - loss: 0.6942 - accuracy: 0.5024\n",
      "Epoch 10/25\n",
      "13/13 [==============================] - 96s 8s/step - loss: 0.6938 - accuracy: 0.5048\n",
      "Epoch 11/25\n",
      "13/13 [==============================] - 91s 7s/step - loss: 0.6980 - accuracy: 0.4807\n",
      "Epoch 12/25\n",
      "13/13 [==============================] - 93s 7s/step - loss: 0.6966 - accuracy: 0.4879\n",
      "Epoch 13/25\n",
      "13/13 [==============================] - 92s 7s/step - loss: 0.6933 - accuracy: 0.5242\n",
      "Epoch 14/25\n",
      "13/13 [==============================] - 88s 7s/step - loss: 0.6961 - accuracy: 0.5217\n",
      "Epoch 15/25\n",
      "13/13 [==============================] - 88s 7s/step - loss: 0.6957 - accuracy: 0.4903\n",
      "Epoch 16/25\n",
      "13/13 [==============================] - 87s 7s/step - loss: 0.6981 - accuracy: 0.4855\n",
      "Epoch 17/25\n",
      "13/13 [==============================] - 88s 7s/step - loss: 0.6944 - accuracy: 0.4758\n",
      "Epoch 18/25\n",
      "13/13 [==============================] - 88s 7s/step - loss: 0.6951 - accuracy: 0.4662\n",
      "Epoch 19/25\n",
      "13/13 [==============================] - 88s 7s/step - loss: 0.6952 - accuracy: 0.4903\n",
      "Epoch 20/25\n",
      "13/13 [==============================] - 90s 7s/step - loss: 0.6935 - accuracy: 0.4807\n",
      "Epoch 21/25\n",
      "13/13 [==============================] - 109s 9s/step - loss: 0.6938 - accuracy: 0.4565\n",
      "Epoch 22/25\n",
      "13/13 [==============================] - 96s 8s/step - loss: 0.6934 - accuracy: 0.4976\n",
      "Epoch 23/25\n",
      "13/13 [==============================] - 102s 8s/step - loss: 0.6934 - accuracy: 0.4734\n",
      "Epoch 24/25\n",
      "13/13 [==============================] - 108s 9s/step - loss: 0.6933 - accuracy: 0.5024\n",
      "Epoch 25/25\n",
      "13/13 [==============================] - ETA: 0s - loss: 0.6928 - accuracy: 0.5169"
     ]
    },
    {
     "ename": "KeyboardInterrupt",
     "evalue": "",
     "output_type": "error",
     "traceback": [
      "\u001b[1;31m---------------------------------------------------------------------------\u001b[0m",
      "\u001b[1;31mKeyboardInterrupt\u001b[0m                         Traceback (most recent call last)",
      "\u001b[1;32md:\\deUvG\\Data_Science\\proyecto-2\\CNN2.ipynb Cell 13\u001b[0m in \u001b[0;36m<cell line: 1>\u001b[1;34m()\u001b[0m\n\u001b[1;32m----> <a href='vscode-notebook-cell:/d%3A/deUvG/Data_Science/proyecto-2/CNN2.ipynb#X15sZmlsZQ%3D%3D?line=0'>1</a>\u001b[0m ConvNN\u001b[39m.\u001b[39;49mfit(images, enc_labels, epochs\u001b[39m=\u001b[39;49m\u001b[39m25\u001b[39;49m, callbacks \u001b[39m=\u001b[39;49m callbacksConv)\n",
      "File \u001b[1;32m~\\AppData\\Local\\Packages\\PythonSoftwareFoundation.Python.3.10_qbz5n2kfra8p0\\LocalCache\\local-packages\\Python310\\site-packages\\keras\\utils\\traceback_utils.py:65\u001b[0m, in \u001b[0;36mfilter_traceback.<locals>.error_handler\u001b[1;34m(*args, **kwargs)\u001b[0m\n\u001b[0;32m     63\u001b[0m filtered_tb \u001b[39m=\u001b[39m \u001b[39mNone\u001b[39;00m\n\u001b[0;32m     64\u001b[0m \u001b[39mtry\u001b[39;00m:\n\u001b[1;32m---> 65\u001b[0m     \u001b[39mreturn\u001b[39;00m fn(\u001b[39m*\u001b[39margs, \u001b[39m*\u001b[39m\u001b[39m*\u001b[39mkwargs)\n\u001b[0;32m     66\u001b[0m \u001b[39mexcept\u001b[39;00m \u001b[39mException\u001b[39;00m \u001b[39mas\u001b[39;00m e:\n\u001b[0;32m     67\u001b[0m     filtered_tb \u001b[39m=\u001b[39m _process_traceback_frames(e\u001b[39m.\u001b[39m__traceback__)\n",
      "File \u001b[1;32m~\\AppData\\Local\\Packages\\PythonSoftwareFoundation.Python.3.10_qbz5n2kfra8p0\\LocalCache\\local-packages\\Python310\\site-packages\\keras\\engine\\training.py:1735\u001b[0m, in \u001b[0;36mModel.fit\u001b[1;34m(self, x, y, batch_size, epochs, verbose, callbacks, validation_split, validation_data, shuffle, class_weight, sample_weight, initial_epoch, steps_per_epoch, validation_steps, validation_batch_size, validation_freq, max_queue_size, workers, use_multiprocessing)\u001b[0m\n\u001b[0;32m   1730\u001b[0m     val_logs \u001b[39m=\u001b[39m {\n\u001b[0;32m   1731\u001b[0m         \u001b[39m\"\u001b[39m\u001b[39mval_\u001b[39m\u001b[39m\"\u001b[39m \u001b[39m+\u001b[39m name: val \u001b[39mfor\u001b[39;00m name, val \u001b[39min\u001b[39;00m val_logs\u001b[39m.\u001b[39mitems()\n\u001b[0;32m   1732\u001b[0m     }\n\u001b[0;32m   1733\u001b[0m     epoch_logs\u001b[39m.\u001b[39mupdate(val_logs)\n\u001b[1;32m-> 1735\u001b[0m callbacks\u001b[39m.\u001b[39;49mon_epoch_end(epoch, epoch_logs)\n\u001b[0;32m   1736\u001b[0m training_logs \u001b[39m=\u001b[39m epoch_logs\n\u001b[0;32m   1737\u001b[0m \u001b[39mif\u001b[39;00m \u001b[39mself\u001b[39m\u001b[39m.\u001b[39mstop_training:\n",
      "File \u001b[1;32m~\\AppData\\Local\\Packages\\PythonSoftwareFoundation.Python.3.10_qbz5n2kfra8p0\\LocalCache\\local-packages\\Python310\\site-packages\\keras\\callbacks.py:454\u001b[0m, in \u001b[0;36mCallbackList.on_epoch_end\u001b[1;34m(self, epoch, logs)\u001b[0m\n\u001b[0;32m    452\u001b[0m logs \u001b[39m=\u001b[39m \u001b[39mself\u001b[39m\u001b[39m.\u001b[39m_process_logs(logs)\n\u001b[0;32m    453\u001b[0m \u001b[39mfor\u001b[39;00m callback \u001b[39min\u001b[39;00m \u001b[39mself\u001b[39m\u001b[39m.\u001b[39mcallbacks:\n\u001b[1;32m--> 454\u001b[0m     callback\u001b[39m.\u001b[39;49mon_epoch_end(epoch, logs)\n",
      "File \u001b[1;32m~\\AppData\\Local\\Packages\\PythonSoftwareFoundation.Python.3.10_qbz5n2kfra8p0\\LocalCache\\local-packages\\Python310\\site-packages\\keras\\callbacks.py:1476\u001b[0m, in \u001b[0;36mModelCheckpoint.on_epoch_end\u001b[1;34m(self, epoch, logs)\u001b[0m\n\u001b[0;32m   1473\u001b[0m \u001b[39mself\u001b[39m\u001b[39m.\u001b[39mepochs_since_last_save \u001b[39m+\u001b[39m\u001b[39m=\u001b[39m \u001b[39m1\u001b[39m\n\u001b[0;32m   1475\u001b[0m \u001b[39mif\u001b[39;00m \u001b[39mself\u001b[39m\u001b[39m.\u001b[39msave_freq \u001b[39m==\u001b[39m \u001b[39m\"\u001b[39m\u001b[39mepoch\u001b[39m\u001b[39m\"\u001b[39m:\n\u001b[1;32m-> 1476\u001b[0m     \u001b[39mself\u001b[39;49m\u001b[39m.\u001b[39;49m_save_model(epoch\u001b[39m=\u001b[39;49mepoch, batch\u001b[39m=\u001b[39;49m\u001b[39mNone\u001b[39;49;00m, logs\u001b[39m=\u001b[39;49mlogs)\n",
      "File \u001b[1;32m~\\AppData\\Local\\Packages\\PythonSoftwareFoundation.Python.3.10_qbz5n2kfra8p0\\LocalCache\\local-packages\\Python310\\site-packages\\keras\\callbacks.py:1563\u001b[0m, in \u001b[0;36mModelCheckpoint._save_model\u001b[1;34m(self, epoch, batch, logs)\u001b[0m\n\u001b[0;32m   1559\u001b[0m             \u001b[39mself\u001b[39m\u001b[39m.\u001b[39mmodel\u001b[39m.\u001b[39msave_weights(\n\u001b[0;32m   1560\u001b[0m                 filepath, overwrite\u001b[39m=\u001b[39m\u001b[39mTrue\u001b[39;00m, options\u001b[39m=\u001b[39m\u001b[39mself\u001b[39m\u001b[39m.\u001b[39m_options\n\u001b[0;32m   1561\u001b[0m             )\n\u001b[0;32m   1562\u001b[0m         \u001b[39melse\u001b[39;00m:\n\u001b[1;32m-> 1563\u001b[0m             \u001b[39mself\u001b[39;49m\u001b[39m.\u001b[39;49mmodel\u001b[39m.\u001b[39;49msave(\n\u001b[0;32m   1564\u001b[0m                 filepath, overwrite\u001b[39m=\u001b[39;49m\u001b[39mTrue\u001b[39;49;00m, options\u001b[39m=\u001b[39;49m\u001b[39mself\u001b[39;49m\u001b[39m.\u001b[39;49m_options\n\u001b[0;32m   1565\u001b[0m             )\n\u001b[0;32m   1567\u001b[0m     \u001b[39mself\u001b[39m\u001b[39m.\u001b[39m_maybe_remove_file()\n\u001b[0;32m   1568\u001b[0m \u001b[39mexcept\u001b[39;00m \u001b[39mIsADirectoryError\u001b[39;00m:  \u001b[39m# h5py 3.x\u001b[39;00m\n",
      "File \u001b[1;32m~\\AppData\\Local\\Packages\\PythonSoftwareFoundation.Python.3.10_qbz5n2kfra8p0\\LocalCache\\local-packages\\Python310\\site-packages\\keras\\utils\\traceback_utils.py:65\u001b[0m, in \u001b[0;36mfilter_traceback.<locals>.error_handler\u001b[1;34m(*args, **kwargs)\u001b[0m\n\u001b[0;32m     63\u001b[0m filtered_tb \u001b[39m=\u001b[39m \u001b[39mNone\u001b[39;00m\n\u001b[0;32m     64\u001b[0m \u001b[39mtry\u001b[39;00m:\n\u001b[1;32m---> 65\u001b[0m     \u001b[39mreturn\u001b[39;00m fn(\u001b[39m*\u001b[39margs, \u001b[39m*\u001b[39m\u001b[39m*\u001b[39mkwargs)\n\u001b[0;32m     66\u001b[0m \u001b[39mexcept\u001b[39;00m \u001b[39mException\u001b[39;00m \u001b[39mas\u001b[39;00m e:\n\u001b[0;32m     67\u001b[0m     filtered_tb \u001b[39m=\u001b[39m _process_traceback_frames(e\u001b[39m.\u001b[39m__traceback__)\n",
      "File \u001b[1;32m~\\AppData\\Local\\Packages\\PythonSoftwareFoundation.Python.3.10_qbz5n2kfra8p0\\LocalCache\\local-packages\\Python310\\site-packages\\keras\\engine\\training.py:2817\u001b[0m, in \u001b[0;36mModel.save\u001b[1;34m(self, filepath, overwrite, save_format, **kwargs)\u001b[0m\n\u001b[0;32m   2763\u001b[0m \u001b[39m@traceback_utils\u001b[39m\u001b[39m.\u001b[39mfilter_traceback\n\u001b[0;32m   2764\u001b[0m \u001b[39mdef\u001b[39;00m \u001b[39msave\u001b[39m(\u001b[39mself\u001b[39m, filepath, overwrite\u001b[39m=\u001b[39m\u001b[39mTrue\u001b[39;00m, save_format\u001b[39m=\u001b[39m\u001b[39mNone\u001b[39;00m, \u001b[39m*\u001b[39m\u001b[39m*\u001b[39mkwargs):\n\u001b[0;32m   2765\u001b[0m     \u001b[39m\"\"\"Saves a model as a TensorFlow SavedModel or HDF5 file.\u001b[39;00m\n\u001b[0;32m   2766\u001b[0m \n\u001b[0;32m   2767\u001b[0m \u001b[39m    See the [Serialization and Saving guide](\u001b[39;00m\n\u001b[1;32m   (...)\u001b[0m\n\u001b[0;32m   2815\u001b[0m \u001b[39m    Note that `model.save()` is an alias for `tf.keras.models.save_model()`.\u001b[39;00m\n\u001b[0;32m   2816\u001b[0m \u001b[39m    \"\"\"\u001b[39;00m\n\u001b[1;32m-> 2817\u001b[0m     saving_api\u001b[39m.\u001b[39msave_model(\n\u001b[0;32m   2818\u001b[0m         \u001b[39mself\u001b[39m,\n\u001b[0;32m   2819\u001b[0m         filepath\u001b[39m=\u001b[39mfilepath,\n\u001b[0;32m   2820\u001b[0m         overwrite\u001b[39m=\u001b[39moverwrite,\n\u001b[0;32m   2821\u001b[0m         save_format\u001b[39m=\u001b[39msave_format,\n\u001b[0;32m   2822\u001b[0m         \u001b[39m*\u001b[39m\u001b[39m*\u001b[39mkwargs,\n\u001b[0;32m   2823\u001b[0m     )\n",
      "File \u001b[1;32m~\\AppData\\Local\\Packages\\PythonSoftwareFoundation.Python.3.10_qbz5n2kfra8p0\\LocalCache\\local-packages\\Python310\\site-packages\\keras\\saving\\saving_api.py:145\u001b[0m, in \u001b[0;36msave_model\u001b[1;34m(model, filepath, overwrite, save_format, **kwargs)\u001b[0m\n\u001b[0;32m    142\u001b[0m     saving_lib\u001b[39m.\u001b[39msave_model(model, filepath)\n\u001b[0;32m    143\u001b[0m \u001b[39melse\u001b[39;00m:\n\u001b[0;32m    144\u001b[0m     \u001b[39m# Legacy case\u001b[39;00m\n\u001b[1;32m--> 145\u001b[0m     \u001b[39mreturn\u001b[39;00m legacy_sm_saving_lib\u001b[39m.\u001b[39msave_model(\n\u001b[0;32m    146\u001b[0m         model,\n\u001b[0;32m    147\u001b[0m         filepath,\n\u001b[0;32m    148\u001b[0m         overwrite\u001b[39m=\u001b[39moverwrite,\n\u001b[0;32m    149\u001b[0m         save_format\u001b[39m=\u001b[39msave_format,\n\u001b[0;32m    150\u001b[0m         \u001b[39m*\u001b[39m\u001b[39m*\u001b[39mkwargs,\n\u001b[0;32m    151\u001b[0m     )\n",
      "File \u001b[1;32m~\\AppData\\Local\\Packages\\PythonSoftwareFoundation.Python.3.10_qbz5n2kfra8p0\\LocalCache\\local-packages\\Python310\\site-packages\\keras\\utils\\traceback_utils.py:65\u001b[0m, in \u001b[0;36mfilter_traceback.<locals>.error_handler\u001b[1;34m(*args, **kwargs)\u001b[0m\n\u001b[0;32m     63\u001b[0m filtered_tb \u001b[39m=\u001b[39m \u001b[39mNone\u001b[39;00m\n\u001b[0;32m     64\u001b[0m \u001b[39mtry\u001b[39;00m:\n\u001b[1;32m---> 65\u001b[0m     \u001b[39mreturn\u001b[39;00m fn(\u001b[39m*\u001b[39margs, \u001b[39m*\u001b[39m\u001b[39m*\u001b[39mkwargs)\n\u001b[0;32m     66\u001b[0m \u001b[39mexcept\u001b[39;00m \u001b[39mException\u001b[39;00m \u001b[39mas\u001b[39;00m e:\n\u001b[0;32m     67\u001b[0m     filtered_tb \u001b[39m=\u001b[39m _process_traceback_frames(e\u001b[39m.\u001b[39m__traceback__)\n",
      "File \u001b[1;32m~\\AppData\\Local\\Packages\\PythonSoftwareFoundation.Python.3.10_qbz5n2kfra8p0\\LocalCache\\local-packages\\Python310\\site-packages\\keras\\saving\\legacy\\save.py:159\u001b[0m, in \u001b[0;36msave_model\u001b[1;34m(model, filepath, overwrite, include_optimizer, save_format, signatures, options, save_traces)\u001b[0m\n\u001b[0;32m    148\u001b[0m     \u001b[39mif\u001b[39;00m \u001b[39mnot\u001b[39;00m model\u001b[39m.\u001b[39m_is_graph_network \u001b[39mand\u001b[39;00m \u001b[39mnot\u001b[39;00m \u001b[39misinstance\u001b[39m(\n\u001b[0;32m    149\u001b[0m         model, sequential\u001b[39m.\u001b[39mSequential\n\u001b[0;32m    150\u001b[0m     ):\n\u001b[0;32m    151\u001b[0m         \u001b[39mraise\u001b[39;00m \u001b[39mNotImplementedError\u001b[39;00m(\n\u001b[0;32m    152\u001b[0m             \u001b[39m\"\u001b[39m\u001b[39mSaving the model to HDF5 format requires the model to be a \u001b[39m\u001b[39m\"\u001b[39m\n\u001b[0;32m    153\u001b[0m             \u001b[39m\"\u001b[39m\u001b[39mFunctional model or a Sequential model. It does not work for \u001b[39m\u001b[39m\"\u001b[39m\n\u001b[1;32m   (...)\u001b[0m\n\u001b[0;32m    157\u001b[0m             \u001b[39m'\u001b[39m\u001b[39msetting save_format=\u001b[39m\u001b[39m\"\u001b[39m\u001b[39mtf\u001b[39m\u001b[39m\"\u001b[39m\u001b[39m) or using `save_weights`.\u001b[39m\u001b[39m'\u001b[39m\n\u001b[0;32m    158\u001b[0m         )\n\u001b[1;32m--> 159\u001b[0m     hdf5_format\u001b[39m.\u001b[39;49msave_model_to_hdf5(\n\u001b[0;32m    160\u001b[0m         model, filepath, overwrite, include_optimizer\n\u001b[0;32m    161\u001b[0m     )\n\u001b[0;32m    162\u001b[0m \u001b[39melse\u001b[39;00m:\n\u001b[0;32m    163\u001b[0m     \u001b[39mwith\u001b[39;00m serialization\u001b[39m.\u001b[39mSharedObjectSavingScope():\n",
      "File \u001b[1;32m~\\AppData\\Local\\Packages\\PythonSoftwareFoundation.Python.3.10_qbz5n2kfra8p0\\LocalCache\\local-packages\\Python310\\site-packages\\keras\\saving\\legacy\\hdf5_format.py:135\u001b[0m, in \u001b[0;36msave_model_to_hdf5\u001b[1;34m(model, filepath, overwrite, include_optimizer)\u001b[0m\n\u001b[0;32m    128\u001b[0m     \u001b[39m# TODO(b/128683857): Add integration tests between tf.keras and external\u001b[39;00m\n\u001b[0;32m    129\u001b[0m     \u001b[39m# Keras, to avoid breaking TF.js users.\u001b[39;00m\n\u001b[0;32m    130\u001b[0m     \u001b[39mif\u001b[39;00m (\n\u001b[0;32m    131\u001b[0m         include_optimizer\n\u001b[0;32m    132\u001b[0m         \u001b[39mand\u001b[39;00m model\u001b[39m.\u001b[39moptimizer\n\u001b[0;32m    133\u001b[0m         \u001b[39mand\u001b[39;00m \u001b[39mnot\u001b[39;00m \u001b[39misinstance\u001b[39m(model\u001b[39m.\u001b[39moptimizer, optimizer_v1\u001b[39m.\u001b[39mTFOptimizer)\n\u001b[0;32m    134\u001b[0m     ):\n\u001b[1;32m--> 135\u001b[0m         save_optimizer_weights_to_hdf5_group(f, model\u001b[39m.\u001b[39;49moptimizer)\n\u001b[0;32m    137\u001b[0m     f\u001b[39m.\u001b[39mflush()\n\u001b[0;32m    138\u001b[0m \u001b[39mfinally\u001b[39;00m:\n",
      "File \u001b[1;32m~\\AppData\\Local\\Packages\\PythonSoftwareFoundation.Python.3.10_qbz5n2kfra8p0\\LocalCache\\local-packages\\Python310\\site-packages\\keras\\saving\\legacy\\hdf5_format.py:690\u001b[0m, in \u001b[0;36msave_optimizer_weights_to_hdf5_group\u001b[1;34m(hdf5_group, optimizer)\u001b[0m\n\u001b[0;32m    688\u001b[0m     param_dset[()] \u001b[39m=\u001b[39m val\n\u001b[0;32m    689\u001b[0m \u001b[39melse\u001b[39;00m:\n\u001b[1;32m--> 690\u001b[0m     param_dset[:] \u001b[39m=\u001b[39m val\n",
      "File \u001b[1;32mh5py\\_objects.pyx:54\u001b[0m, in \u001b[0;36mh5py._objects.with_phil.wrapper\u001b[1;34m()\u001b[0m\n",
      "File \u001b[1;32mh5py\\_objects.pyx:55\u001b[0m, in \u001b[0;36mh5py._objects.with_phil.wrapper\u001b[1;34m()\u001b[0m\n",
      "File \u001b[1;32m~\\AppData\\Local\\Packages\\PythonSoftwareFoundation.Python.3.10_qbz5n2kfra8p0\\LocalCache\\local-packages\\Python310\\site-packages\\h5py\\_hl\\dataset.py:982\u001b[0m, in \u001b[0;36mDataset.__setitem__\u001b[1;34m(self, args, val)\u001b[0m\n\u001b[0;32m    980\u001b[0m mspace \u001b[39m=\u001b[39m h5s\u001b[39m.\u001b[39mcreate_simple(selection\u001b[39m.\u001b[39mexpand_shape(mshape))\n\u001b[0;32m    981\u001b[0m \u001b[39mfor\u001b[39;00m fspace \u001b[39min\u001b[39;00m selection\u001b[39m.\u001b[39mbroadcast(mshape):\n\u001b[1;32m--> 982\u001b[0m     \u001b[39mself\u001b[39;49m\u001b[39m.\u001b[39;49mid\u001b[39m.\u001b[39;49mwrite(mspace, fspace, val, mtype, dxpl\u001b[39m=\u001b[39;49m\u001b[39mself\u001b[39;49m\u001b[39m.\u001b[39;49m_dxpl)\n",
      "\u001b[1;31mKeyboardInterrupt\u001b[0m: "
     ]
    }
   ],
   "source": [
    "ConvNN.fit(images, enc_labels, epochs=25, callbacks = callbacksConv)"
   ]
  }
 ],
 "metadata": {
  "kernelspec": {
   "display_name": "Python 3.10.8 64-bit (microsoft store)",
   "language": "python",
   "name": "python3"
  },
  "language_info": {
   "codemirror_mode": {
    "name": "ipython",
    "version": 3
   },
   "file_extension": ".py",
   "mimetype": "text/x-python",
   "name": "python",
   "nbconvert_exporter": "python",
   "pygments_lexer": "ipython3",
   "version": "3.10.8"
  },
  "orig_nbformat": 4,
  "vscode": {
   "interpreter": {
    "hash": "0dd6fa3abc8b5e7149b352393c5164f57b1cec79d3e0f994a3fd8126332678a6"
   }
  }
 },
 "nbformat": 4,
 "nbformat_minor": 2
}
