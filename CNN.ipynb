{
 "cells": [
  {
   "cell_type": "code",
   "execution_count": 20,
   "metadata": {},
   "outputs": [],
   "source": [
    "import pandas as pd\n",
    "from tensorflow import keras\n",
    "from tensorflow.keras import layers\n",
    "import numpy as np\n",
    "import matplotlib.pyplot as plt\n",
    "from PIL import Image\n",
    "from sklearn import metrics"
   ]
  },
  {
   "cell_type": "code",
   "execution_count": 2,
   "metadata": {},
   "outputs": [
    {
     "data": {
      "text/html": [
       "<div>\n",
       "<style scoped>\n",
       "    .dataframe tbody tr th:only-of-type {\n",
       "        vertical-align: middle;\n",
       "    }\n",
       "\n",
       "    .dataframe tbody tr th {\n",
       "        vertical-align: top;\n",
       "    }\n",
       "\n",
       "    .dataframe thead th {\n",
       "        text-align: right;\n",
       "    }\n",
       "</style>\n",
       "<table border=\"1\" class=\"dataframe\">\n",
       "  <thead>\n",
       "    <tr style=\"text-align: right;\">\n",
       "      <th></th>\n",
       "      <th>image_id</th>\n",
       "      <th>label</th>\n",
       "    </tr>\n",
       "  </thead>\n",
       "  <tbody>\n",
       "    <tr>\n",
       "      <th>0</th>\n",
       "      <td>006388_0</td>\n",
       "      <td>CE</td>\n",
       "    </tr>\n",
       "    <tr>\n",
       "      <th>1</th>\n",
       "      <td>008e5c_0</td>\n",
       "      <td>CE</td>\n",
       "    </tr>\n",
       "    <tr>\n",
       "      <th>2</th>\n",
       "      <td>00c058_0</td>\n",
       "      <td>LAA</td>\n",
       "    </tr>\n",
       "    <tr>\n",
       "      <th>3</th>\n",
       "      <td>01adc5_0</td>\n",
       "      <td>LAA</td>\n",
       "    </tr>\n",
       "    <tr>\n",
       "      <th>4</th>\n",
       "      <td>026c97_0</td>\n",
       "      <td>CE</td>\n",
       "    </tr>\n",
       "  </tbody>\n",
       "</table>\n",
       "</div>"
      ],
      "text/plain": [
       "   image_id label\n",
       "0  006388_0    CE\n",
       "1  008e5c_0    CE\n",
       "2  00c058_0   LAA\n",
       "3  01adc5_0   LAA\n",
       "4  026c97_0    CE"
      ]
     },
     "execution_count": 2,
     "metadata": {},
     "output_type": "execute_result"
    }
   ],
   "source": [
    "df = pd.read_csv('data/train.csv').dropna()\n",
    "df.drop(columns=['center_id', 'patient_id', 'image_num'], inplace=True)\n",
    "df.head()"
   ]
  },
  {
   "cell_type": "code",
   "execution_count": 3,
   "metadata": {},
   "outputs": [
    {
     "data": {
      "text/plain": [
       "547"
      ]
     },
     "execution_count": 3,
     "metadata": {},
     "output_type": "execute_result"
    }
   ],
   "source": [
    "CE_count = df.where(df['label'] == 'CE').count()[0]\n",
    "CE_count"
   ]
  },
  {
   "cell_type": "code",
   "execution_count": 4,
   "metadata": {},
   "outputs": [
    {
     "data": {
      "text/plain": [
       "207"
      ]
     },
     "execution_count": 4,
     "metadata": {},
     "output_type": "execute_result"
    }
   ],
   "source": [
    "LAA_count = df.where(df['label'] == 'LAA').count()[0]\n",
    "LAA_count"
   ]
  },
  {
   "cell_type": "code",
   "execution_count": 5,
   "metadata": {},
   "outputs": [
    {
     "data": {
      "text/plain": [
       "207"
      ]
     },
     "execution_count": 5,
     "metadata": {},
     "output_type": "execute_result"
    }
   ],
   "source": [
    "cutoff = CE_count if CE_count < LAA_count else LAA_count\n",
    "cutoff"
   ]
  },
  {
   "cell_type": "code",
   "execution_count": 6,
   "metadata": {},
   "outputs": [],
   "source": [
    "CE = df.where(df['label'] == 'CE').dropna().head(cutoff)\n",
    "LAA = df.where(df['label'] == 'LAA').dropna().head(cutoff)"
   ]
  },
  {
   "cell_type": "code",
   "execution_count": 7,
   "metadata": {},
   "outputs": [
    {
     "data": {
      "text/html": [
       "<div>\n",
       "<style scoped>\n",
       "    .dataframe tbody tr th:only-of-type {\n",
       "        vertical-align: middle;\n",
       "    }\n",
       "\n",
       "    .dataframe tbody tr th {\n",
       "        vertical-align: top;\n",
       "    }\n",
       "\n",
       "    .dataframe thead th {\n",
       "        text-align: right;\n",
       "    }\n",
       "</style>\n",
       "<table border=\"1\" class=\"dataframe\">\n",
       "  <thead>\n",
       "    <tr style=\"text-align: right;\">\n",
       "      <th></th>\n",
       "      <th>image_id</th>\n",
       "      <th>label</th>\n",
       "    </tr>\n",
       "  </thead>\n",
       "  <tbody>\n",
       "    <tr>\n",
       "      <th>0</th>\n",
       "      <td>006388_0</td>\n",
       "      <td>CE</td>\n",
       "    </tr>\n",
       "    <tr>\n",
       "      <th>1</th>\n",
       "      <td>008e5c_0</td>\n",
       "      <td>CE</td>\n",
       "    </tr>\n",
       "    <tr>\n",
       "      <th>4</th>\n",
       "      <td>026c97_0</td>\n",
       "      <td>CE</td>\n",
       "    </tr>\n",
       "    <tr>\n",
       "      <th>6</th>\n",
       "      <td>029c68_0</td>\n",
       "      <td>CE</td>\n",
       "    </tr>\n",
       "    <tr>\n",
       "      <th>7</th>\n",
       "      <td>032f10_0</td>\n",
       "      <td>CE</td>\n",
       "    </tr>\n",
       "    <tr>\n",
       "      <th>...</th>\n",
       "      <td>...</td>\n",
       "      <td>...</td>\n",
       "    </tr>\n",
       "    <tr>\n",
       "      <th>740</th>\n",
       "      <td>fd684f_0</td>\n",
       "      <td>LAA</td>\n",
       "    </tr>\n",
       "    <tr>\n",
       "      <th>745</th>\n",
       "      <td>fde9ba_0</td>\n",
       "      <td>LAA</td>\n",
       "    </tr>\n",
       "    <tr>\n",
       "      <th>750</th>\n",
       "      <td>fe9bec_0</td>\n",
       "      <td>LAA</td>\n",
       "    </tr>\n",
       "    <tr>\n",
       "      <th>752</th>\n",
       "      <td>ffec5c_0</td>\n",
       "      <td>LAA</td>\n",
       "    </tr>\n",
       "    <tr>\n",
       "      <th>753</th>\n",
       "      <td>ffec5c_1</td>\n",
       "      <td>LAA</td>\n",
       "    </tr>\n",
       "  </tbody>\n",
       "</table>\n",
       "<p>414 rows × 2 columns</p>\n",
       "</div>"
      ],
      "text/plain": [
       "     image_id label\n",
       "0    006388_0    CE\n",
       "1    008e5c_0    CE\n",
       "4    026c97_0    CE\n",
       "6    029c68_0    CE\n",
       "7    032f10_0    CE\n",
       "..        ...   ...\n",
       "740  fd684f_0   LAA\n",
       "745  fde9ba_0   LAA\n",
       "750  fe9bec_0   LAA\n",
       "752  ffec5c_0   LAA\n",
       "753  ffec5c_1   LAA\n",
       "\n",
       "[414 rows x 2 columns]"
      ]
     },
     "execution_count": 7,
     "metadata": {},
     "output_type": "execute_result"
    }
   ],
   "source": [
    "data = pd.concat([CE, LAA]).dropna()\n",
    "data.head(cutoff*2)"
   ]
  },
  {
   "cell_type": "code",
   "execution_count": 8,
   "metadata": {},
   "outputs": [
    {
     "data": {
      "text/plain": [
       "(414, 512, 512)"
      ]
     },
     "execution_count": 8,
     "metadata": {},
     "output_type": "execute_result"
    }
   ],
   "source": [
    "images = np.array([np.array(Image.open(f'jpgs/{img_id}.jpg')) for img_id in data['image_id']])\n",
    "images.shape"
   ]
  },
  {
   "cell_type": "code",
   "execution_count": 9,
   "metadata": {},
   "outputs": [],
   "source": [
    "enc_labels = np.zeros(shape=(414, 2))\n",
    "for i, label in enumerate(data['label']):\n",
    "    enc_labels[i][1 if label == 'CE' else 0] = 1"
   ]
  },
  {
   "cell_type": "code",
   "execution_count": 10,
   "metadata": {},
   "outputs": [
    {
     "data": {
      "text/plain": [
       "(None, 2)"
      ]
     },
     "execution_count": 10,
     "metadata": {},
     "output_type": "execute_result"
    }
   ],
   "source": [
    "keras.utils.set_random_seed(1234)\n",
    "ConvNN = keras.Sequential()\n",
    "ConvNN.bias = 0.5\n",
    "ConvNN.add(keras.layers.Input((512, 512)))\n",
    "ConvNN.add(keras.layers.Rescaling(1.0/255))\n",
    "\n",
    "#ConvNN.add(keras.layers.Reshape((512, 512)))\n",
    "\n",
    "ConvNN.add(keras.layers.Convolution1D(256, (4), strides=(2), activation='relu'))\n",
    "ConvNN.add(keras.layers.MaxPool1D(2))\n",
    "\n",
    "ConvNN.add(keras.layers.Convolution1D(128, (4), strides=(2), activation='relu'))\n",
    "ConvNN.add(keras.layers.MaxPool1D(2))\n",
    "\n",
    "ConvNN.add(keras.layers.Convolution1D(64,  (4), strides=(2), activation='relu'))\n",
    "ConvNN.add(keras.layers.MaxPool1D(2))\n",
    "\n",
    "ConvNN.add(keras.layers.Flatten())\n",
    "ConvNN.add(keras.layers.Dense(262144, activation='relu'))\n",
    "ConvNN.add(keras.layers.Dense(512, activation='relu'))\n",
    "ConvNN.add(keras.layers.Dense(256,  activation='relu'))\n",
    "\n",
    "ConvNN.add(keras.layers.Dropout(.5))\n",
    "\n",
    "ConvNN.add(keras.layers.Dense(2, activation='softmax'))\n",
    "ConvNN.output_shape"
   ]
  },
  {
   "cell_type": "code",
   "execution_count": 11,
   "metadata": {},
   "outputs": [],
   "source": [
    "callbacksConv = [\n",
    "    keras.callbacks.ModelCheckpoint(\"convNN_save_at_{epoch}.h5\"),\n",
    "]"
   ]
  },
  {
   "cell_type": "code",
   "execution_count": 12,
   "metadata": {},
   "outputs": [],
   "source": [
    "ConvNN.compile( metrics=[\"accuracy\"], \n",
    "optimizer = keras.optimizers.Adam(learning_rate=1e-3), \n",
    "loss=\"categorical_crossentropy\")"
   ]
  },
  {
   "cell_type": "code",
   "execution_count": 13,
   "metadata": {},
   "outputs": [
    {
     "name": "stdout",
     "output_type": "stream",
     "text": [
      "Epoch 1/25\n",
      "13/13 [==============================] - 152s 11s/step - loss: 1.5324 - accuracy: 0.4928\n",
      "Epoch 2/25\n",
      "13/13 [==============================] - 96s 8s/step - loss: 0.7248 - accuracy: 0.5266\n",
      "Epoch 3/25\n",
      "13/13 [==============================] - 85s 7s/step - loss: 0.6875 - accuracy: 0.5580\n",
      "Epoch 4/25\n",
      "13/13 [==============================] - 87s 7s/step - loss: 0.6716 - accuracy: 0.6014\n",
      "Epoch 5/25\n",
      "13/13 [==============================] - 89s 7s/step - loss: 0.6566 - accuracy: 0.5386\n",
      "Epoch 6/25\n",
      "13/13 [==============================] - 90s 7s/step - loss: 0.6638 - accuracy: 0.5821\n",
      "Epoch 7/25\n",
      "13/13 [==============================] - 88s 7s/step - loss: 0.6406 - accuracy: 0.6280\n",
      "Epoch 8/25\n",
      "13/13 [==============================] - 89s 7s/step - loss: 0.6248 - accuracy: 0.6570\n",
      "Epoch 9/25\n",
      "13/13 [==============================] - 88s 7s/step - loss: 0.6276 - accuracy: 0.6667\n",
      "Epoch 10/25\n",
      "13/13 [==============================] - 88s 7s/step - loss: 0.5693 - accuracy: 0.6691\n",
      "Epoch 11/25\n",
      "13/13 [==============================] - 88s 7s/step - loss: 0.5828 - accuracy: 0.6594\n",
      "Epoch 12/25\n",
      "13/13 [==============================] - 88s 7s/step - loss: 0.5567 - accuracy: 0.6860\n",
      "Epoch 13/25\n",
      "13/13 [==============================] - 89s 7s/step - loss: 0.5371 - accuracy: 0.6957\n",
      "Epoch 14/25\n",
      "13/13 [==============================] - 88s 7s/step - loss: 0.4549 - accuracy: 0.7295\n",
      "Epoch 15/25\n",
      "13/13 [==============================] - 88s 7s/step - loss: 0.4155 - accuracy: 0.7754\n",
      "Epoch 16/25\n",
      "13/13 [==============================] - 88s 7s/step - loss: 0.4210 - accuracy: 0.7729\n",
      "Epoch 17/25\n",
      "13/13 [==============================] - 88s 7s/step - loss: 0.4156 - accuracy: 0.7609\n",
      "Epoch 18/25\n",
      "13/13 [==============================] - 88s 7s/step - loss: 0.3700 - accuracy: 0.7923\n",
      "Epoch 19/25\n",
      "13/13 [==============================] - 89s 7s/step - loss: 0.3294 - accuracy: 0.8333\n",
      "Epoch 20/25\n",
      "13/13 [==============================] - 88s 7s/step - loss: 0.3863 - accuracy: 0.7923\n",
      "Epoch 21/25\n",
      "13/13 [==============================] - 88s 7s/step - loss: 0.4120 - accuracy: 0.7778\n",
      "Epoch 22/25\n",
      "13/13 [==============================] - 88s 7s/step - loss: 0.3532 - accuracy: 0.8116\n",
      "Epoch 23/25\n",
      "13/13 [==============================] - 88s 7s/step - loss: 0.3385 - accuracy: 0.8406\n",
      "Epoch 24/25\n",
      "13/13 [==============================] - 88s 7s/step - loss: 0.2704 - accuracy: 0.8527\n",
      "Epoch 25/25\n",
      "13/13 [==============================] - 89s 7s/step - loss: 0.2695 - accuracy: 0.8478\n"
     ]
    },
    {
     "data": {
      "text/plain": [
       "<keras.callbacks.History at 0x21ad34db940>"
      ]
     },
     "execution_count": 13,
     "metadata": {},
     "output_type": "execute_result"
    }
   ],
   "source": [
    "ConvNN.fit(images, enc_labels, epochs=25, callbacks = callbacksConv)"
   ]
  },
  {
   "cell_type": "code",
   "execution_count": 14,
   "metadata": {},
   "outputs": [
    {
     "data": {
      "text/plain": [
       "(None, 2)"
      ]
     },
     "execution_count": 14,
     "metadata": {},
     "output_type": "execute_result"
    }
   ],
   "source": [
    "keras.utils.set_random_seed(1234)\n",
    "ConvNN = keras.Sequential()\n",
    "ConvNN.bias = 0.5\n",
    "ConvNN.add(keras.layers.Input((512, 512)))\n",
    "ConvNN.add(keras.layers.Rescaling(1.0/255))\n",
    "\n",
    "ConvNN.add(keras.layers.RandomFlip(\n",
    "    mode=\"horizontal_and_vertical\", seed=1234\n",
    "))\n",
    "\n",
    "\n",
    "\n",
    "\n",
    "ConvNN.add(keras.layers.Convolution1D(256, (4), strides=(2), activation='relu'))\n",
    "ConvNN.add(keras.layers.MaxPool1D(2))\n",
    "\n",
    "ConvNN.add(keras.layers.Convolution1D(128, (4), strides=(2), activation='relu'))\n",
    "ConvNN.add(keras.layers.MaxPool1D(2))\n",
    "\n",
    "ConvNN.add(keras.layers.Convolution1D(64,  (4), strides=(2), activation='relu'))\n",
    "ConvNN.add(keras.layers.MaxPool1D(2))\n",
    "\n",
    "ConvNN.add(keras.layers.Flatten())\n",
    "ConvNN.add(keras.layers.Dense(262144, activation='relu'))\n",
    "ConvNN.add(keras.layers.Dense(512, activation='relu'))\n",
    "ConvNN.add(keras.layers.Dense(256,  activation='relu'))\n",
    "\n",
    "ConvNN.add(keras.layers.Dropout(.5))\n",
    "\n",
    "ConvNN.add(keras.layers.Dense(2, activation='softmax'))\n",
    "ConvNN.output_shape"
   ]
  },
  {
   "cell_type": "code",
   "execution_count": 15,
   "metadata": {},
   "outputs": [],
   "source": [
    "callbacksConv = [\n",
    "    keras.callbacks.ModelCheckpoint(\"convNNv2_save_at_{epoch}.h5\"),\n",
    "]"
   ]
  },
  {
   "cell_type": "code",
   "execution_count": 16,
   "metadata": {},
   "outputs": [],
   "source": [
    "ConvNN.compile( metrics=[\"accuracy\"], \n",
    "optimizer = keras.optimizers.Adam(learning_rate=1e-3), \n",
    "loss=\"categorical_crossentropy\")"
   ]
  },
  {
   "cell_type": "code",
   "execution_count": 17,
   "metadata": {},
   "outputs": [
    {
     "name": "stdout",
     "output_type": "stream",
     "text": [
      "13/13 [==============================] - 51s 4s/step - loss: 1.3271 - accuracy: 0.5072\n",
      "Epoch 2/25\n",
      "13/13 [==============================] - 48s 4s/step - loss: 0.6945 - accuracy: 0.5435\n",
      "Epoch 3/25\n",
      "13/13 [==============================] - 47s 4s/step - loss: 0.6797 - accuracy: 0.5700\n",
      "Epoch 4/25\n",
      "13/13 [==============================] - 47s 4s/step - loss: 0.6656 - accuracy: 0.5870\n",
      "Epoch 5/25\n",
      "13/13 [==============================] - 48s 4s/step - loss: 0.6668 - accuracy: 0.5845\n",
      "Epoch 6/25\n",
      "13/13 [==============================] - 48s 4s/step - loss: 0.6422 - accuracy: 0.6111\n",
      "Epoch 7/25\n",
      "13/13 [==============================] - 42s 3s/step - loss: 0.6439 - accuracy: 0.5990\n",
      "Epoch 8/25\n",
      "13/13 [==============================] - 44s 3s/step - loss: 0.5899 - accuracy: 0.6546\n",
      "Epoch 9/25\n",
      "13/13 [==============================] - 31s 2s/step - loss: 0.5790 - accuracy: 0.6691\n",
      "Epoch 10/25\n",
      "13/13 [==============================] - 31s 2s/step - loss: 0.5963 - accuracy: 0.6643\n",
      "Epoch 11/25\n",
      "13/13 [==============================] - 31s 2s/step - loss: 0.5181 - accuracy: 0.7101\n",
      "Epoch 12/25\n",
      "13/13 [==============================] - 43s 3s/step - loss: 0.4848 - accuracy: 0.7536\n",
      "Epoch 13/25\n",
      "13/13 [==============================] - 46s 4s/step - loss: 0.4658 - accuracy: 0.7609\n",
      "Epoch 14/25\n",
      "13/13 [==============================] - 42s 3s/step - loss: 1.1077 - accuracy: 0.7512\n",
      "Epoch 15/25\n",
      "13/13 [==============================] - 49s 4s/step - loss: 0.5914 - accuracy: 0.6618\n",
      "Epoch 16/25\n",
      "13/13 [==============================] - 46s 3s/step - loss: 0.4948 - accuracy: 0.7391\n",
      "Epoch 17/25\n",
      "13/13 [==============================] - 49s 4s/step - loss: 0.3671 - accuracy: 0.7995\n",
      "Epoch 18/25\n",
      "13/13 [==============================] - 36s 3s/step - loss: 0.3296 - accuracy: 0.8140\n",
      "Epoch 19/25\n",
      "13/13 [==============================] - 31s 2s/step - loss: 0.3239 - accuracy: 0.8188\n",
      "Epoch 20/25\n",
      "13/13 [==============================] - 31s 2s/step - loss: 0.3323 - accuracy: 0.8043\n",
      "Epoch 21/25\n",
      "13/13 [==============================] - 31s 2s/step - loss: 0.3171 - accuracy: 0.8068\n",
      "Epoch 22/25\n",
      "13/13 [==============================] - 32s 2s/step - loss: 0.2783 - accuracy: 0.8478\n",
      "Epoch 23/25\n",
      "13/13 [==============================] - 31s 2s/step - loss: 0.2779 - accuracy: 0.8502\n",
      "Epoch 24/25\n",
      "13/13 [==============================] - 31s 2s/step - loss: 0.3346 - accuracy: 0.8333\n",
      "Epoch 25/25\n",
      "13/13 [==============================] - 31s 2s/step - loss: 0.2815 - accuracy: 0.8502\n"
     ]
    },
    {
     "data": {
      "text/plain": [
       "<keras.callbacks.History at 0x21aefa43dc0>"
      ]
     },
     "execution_count": 17,
     "metadata": {},
     "output_type": "execute_result"
    }
   ],
   "source": [
    "ConvNN.fit(images, enc_labels, epochs=25, callbacks = callbacksConv)"
   ]
  }
 ],
 "metadata": {
  "kernelspec": {
   "display_name": "Python 3.10.8 64-bit (microsoft store)",
   "language": "python",
   "name": "python3"
  },
  "language_info": {
   "codemirror_mode": {
    "name": "ipython",
    "version": 3
   },
   "file_extension": ".py",
   "mimetype": "text/x-python",
   "name": "python",
   "nbconvert_exporter": "python",
   "pygments_lexer": "ipython3",
   "version": "3.10.8"
  },
  "orig_nbformat": 4,
  "vscode": {
   "interpreter": {
    "hash": "0dd6fa3abc8b5e7149b352393c5164f57b1cec79d3e0f994a3fd8126332678a6"
   }
  }
 },
 "nbformat": 4,
 "nbformat_minor": 2
}
